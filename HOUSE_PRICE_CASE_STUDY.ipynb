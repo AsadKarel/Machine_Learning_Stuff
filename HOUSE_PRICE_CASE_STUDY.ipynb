{
 "cells": [
  {
   "cell_type": "markdown",
   "metadata": {},
   "source": [
    "`ASAD ASHRAF KAREL`"
   ]
  },
  {
   "cell_type": "markdown",
   "metadata": {},
   "source": [
    "# Study of Machine Learning models with practical scenario"
   ]
  },
  {
   "cell_type": "markdown",
   "metadata": {},
   "source": [
    "-------------------------"
   ]
  },
  {
   "cell_type": "code",
   "execution_count": 1,
   "metadata": {
    "scrolled": true
   },
   "outputs": [
    {
     "data": {
      "text/html": [
       "<div>\n",
       "<style scoped>\n",
       "    .dataframe tbody tr th:only-of-type {\n",
       "        vertical-align: middle;\n",
       "    }\n",
       "\n",
       "    .dataframe tbody tr th {\n",
       "        vertical-align: top;\n",
       "    }\n",
       "\n",
       "    .dataframe thead th {\n",
       "        text-align: right;\n",
       "    }\n",
       "</style>\n",
       "<table border=\"1\" class=\"dataframe\">\n",
       "  <thead>\n",
       "    <tr style=\"text-align: right;\">\n",
       "      <th></th>\n",
       "      <th>Rooms</th>\n",
       "      <th>Type</th>\n",
       "      <th>Price</th>\n",
       "      <th>Method</th>\n",
       "      <th>Regionname</th>\n",
       "      <th>Bathroom</th>\n",
       "      <th>Car</th>\n",
       "      <th>Landsize</th>\n",
       "      <th>Distance</th>\n",
       "      <th>Bedroom</th>\n",
       "    </tr>\n",
       "  </thead>\n",
       "  <tbody>\n",
       "    <tr>\n",
       "      <th>0</th>\n",
       "      <td>3</td>\n",
       "      <td>h</td>\n",
       "      <td>1490000</td>\n",
       "      <td>S</td>\n",
       "      <td>Northern Metropolitan</td>\n",
       "      <td>1</td>\n",
       "      <td>1</td>\n",
       "      <td>126</td>\n",
       "      <td>25.2</td>\n",
       "      <td>2</td>\n",
       "    </tr>\n",
       "    <tr>\n",
       "      <th>1</th>\n",
       "      <td>3</td>\n",
       "      <td>h</td>\n",
       "      <td>1220000</td>\n",
       "      <td>S</td>\n",
       "      <td>Northern Metropolitan</td>\n",
       "      <td>1</td>\n",
       "      <td>1</td>\n",
       "      <td>202</td>\n",
       "      <td>21.8</td>\n",
       "      <td>2</td>\n",
       "    </tr>\n",
       "    <tr>\n",
       "      <th>2</th>\n",
       "      <td>3</td>\n",
       "      <td>h</td>\n",
       "      <td>1420000</td>\n",
       "      <td>S</td>\n",
       "      <td>Northern Metropolitan</td>\n",
       "      <td>1</td>\n",
       "      <td>0</td>\n",
       "      <td>156</td>\n",
       "      <td>21.7</td>\n",
       "      <td>2</td>\n",
       "    </tr>\n",
       "    <tr>\n",
       "      <th>3</th>\n",
       "      <td>3</td>\n",
       "      <td>h</td>\n",
       "      <td>1515000</td>\n",
       "      <td>S</td>\n",
       "      <td>Western Metropolitan</td>\n",
       "      <td>2</td>\n",
       "      <td>1</td>\n",
       "      <td>0</td>\n",
       "      <td>18.8</td>\n",
       "      <td>3</td>\n",
       "    </tr>\n",
       "    <tr>\n",
       "      <th>4</th>\n",
       "      <td>2</td>\n",
       "      <td>h</td>\n",
       "      <td>670000</td>\n",
       "      <td>S</td>\n",
       "      <td>Western Metropolitan</td>\n",
       "      <td>2</td>\n",
       "      <td>0</td>\n",
       "      <td>134</td>\n",
       "      <td>20.6</td>\n",
       "      <td>3</td>\n",
       "    </tr>\n",
       "  </tbody>\n",
       "</table>\n",
       "</div>"
      ],
      "text/plain": [
       "   Rooms Type    Price Method             Regionname  Bathroom  Car  Landsize  \\\n",
       "0      3    h  1490000      S  Northern Metropolitan         1    1       126   \n",
       "1      3    h  1220000      S  Northern Metropolitan         1    1       202   \n",
       "2      3    h  1420000      S  Northern Metropolitan         1    0       156   \n",
       "3      3    h  1515000      S   Western Metropolitan         2    1         0   \n",
       "4      2    h   670000      S   Western Metropolitan         2    0       134   \n",
       "\n",
       "   Distance  Bedroom  \n",
       "0      25.2        2  \n",
       "1      21.8        2  \n",
       "2      21.7        2  \n",
       "3      18.8        3  \n",
       "4      20.6        3  "
      ]
     },
     "execution_count": 1,
     "metadata": {},
     "output_type": "execute_result"
    }
   ],
   "source": [
    "import pandas as pd\n",
    "house = pd.read_csv('house.csv')\n",
    "house.head()"
   ]
  },
  {
   "cell_type": "code",
   "execution_count": 2,
   "metadata": {},
   "outputs": [
    {
     "data": {
      "text/plain": [
       "(4766, 10)"
      ]
     },
     "execution_count": 2,
     "metadata": {},
     "output_type": "execute_result"
    }
   ],
   "source": [
    "house.shape"
   ]
  },
  {
   "cell_type": "markdown",
   "metadata": {},
   "source": [
    "`House dataset has 4766 entries. Let's seperate the data into train and test format.`"
   ]
  },
  {
   "cell_type": "code",
   "execution_count": 3,
   "metadata": {},
   "outputs": [],
   "source": [
    "house_train = house.iloc[:3000,:] ; house_test = house.iloc[3000:,:]"
   ]
  },
  {
   "cell_type": "code",
   "execution_count": 4,
   "metadata": {
    "scrolled": true
   },
   "outputs": [
    {
     "data": {
      "text/plain": [
       "((3000, 10), (1766, 10), 4766)"
      ]
     },
     "execution_count": 4,
     "metadata": {},
     "output_type": "execute_result"
    }
   ],
   "source": [
    "house_train.shape , house_test.shape , (house_train.shape[0] + house_test.shape[0])"
   ]
  },
  {
   "cell_type": "markdown",
   "metadata": {},
   "source": [
    "### Unkown data for the machine:"
   ]
  },
  {
   "cell_type": "code",
   "execution_count": 5,
   "metadata": {},
   "outputs": [
    {
     "data": {
      "text/plain": [
       "9"
      ]
     },
     "execution_count": 5,
     "metadata": {},
     "output_type": "execute_result"
    }
   ],
   "source": [
    "house_test_data = house_test.drop('Price', axis=1)\n",
    "house_test_data.shape[1]"
   ]
  },
  {
   "cell_type": "markdown",
   "metadata": {},
   "source": [
    "---------------"
   ]
  },
  {
   "cell_type": "code",
   "execution_count": 6,
   "metadata": {
    "scrolled": true
   },
   "outputs": [
    {
     "name": "stdout",
     "output_type": "stream",
     "text": [
      "Slope: -4.25018464029854e-08 \n",
      " Intercept: 2.9845844316410624 \n",
      " R_value: -0.025258749153968536 \n",
      " P_value: 0.08123071586090312 \n",
      " Std_Error: 2.4370895979742685e-08\n"
     ]
    }
   ],
   "source": [
    "import scipy.stats as st\n",
    "slope, intercept,  rvalue, pvalue, stderr = st.linregress(house.Price, house.Bedroom)\n",
    "print( 'Slope:',slope,'\\n','Intercept:',intercept,'\\n', \n",
    "      'R_value:', rvalue, '\\n', 'P_value:',pvalue,  '\\n','Std_Error:',stderr ) "
   ]
  },
  {
   "cell_type": "markdown",
   "metadata": {},
   "source": [
    "`This is the simplest inference we got from the machine, that it gave p-value > 5% (0.05), which indicates the feature Bedroom is not contributing good with the house price. Hence we go with another attributes. This is a simpler LinearRegression model.`"
   ]
  },
  {
   "cell_type": "markdown",
   "metadata": {},
   "source": [
    "-------------------"
   ]
  },
  {
   "cell_type": "markdown",
   "metadata": {},
   "source": [
    "### Exploratory Data Analysis :"
   ]
  },
  {
   "cell_type": "code",
   "execution_count": 7,
   "metadata": {
    "scrolled": true
   },
   "outputs": [
    {
     "data": {
      "text/plain": [
       "Rooms           int64\n",
       "Type           object\n",
       "Price           int64\n",
       "Method         object\n",
       "Regionname     object\n",
       "Bathroom        int64\n",
       "Car             int64\n",
       "Landsize        int64\n",
       "Distance      float64\n",
       "Bedroom         int64\n",
       "dtype: object"
      ]
     },
     "execution_count": 7,
     "metadata": {},
     "output_type": "execute_result"
    }
   ],
   "source": [
    "house.dtypes"
   ]
  },
  {
   "cell_type": "markdown",
   "metadata": {},
   "source": [
    "`These are the feature types we are about work on correspondingly.`\n",
    "\n",
    "`Lets's deal with categorical variables.`"
   ]
  },
  {
   "cell_type": "code",
   "execution_count": 8,
   "metadata": {},
   "outputs": [
    {
     "name": "stdout",
     "output_type": "stream",
     "text": [
      "Type:    Type\n",
      "h  3353\n",
      "u   920\n",
      "t   493\n",
      "Method:     Method\n",
      "S     3088\n",
      "SP     662\n",
      "PI     534\n",
      "VB     446\n",
      "SA      36\n"
     ]
    }
   ],
   "source": [
    "print('Type:', pd.DataFrame(house.Type.value_counts()))\n",
    "print('Method:', pd.DataFrame(house.Method.value_counts()))"
   ]
  },
  {
   "cell_type": "markdown",
   "metadata": {},
   "source": [
    "`We see here these categorical features do not seem to be good for prediction, hence we remove them for a while from the data.`"
   ]
  },
  {
   "cell_type": "code",
   "execution_count": 9,
   "metadata": {
    "scrolled": true
   },
   "outputs": [],
   "source": [
    "house1 = house.drop(['Type', 'Method', 'Regionname'], axis=1)\n",
    "house_train = house1.iloc[:3000,:] ; house_test = house1.iloc[3000:,:]"
   ]
  },
  {
   "cell_type": "markdown",
   "metadata": {},
   "source": [
    "**Dealing with null values:**"
   ]
  },
  {
   "cell_type": "code",
   "execution_count": 10,
   "metadata": {
    "scrolled": true
   },
   "outputs": [
    {
     "data": {
      "text/plain": [
       "Rooms         0\n",
       "Type          0\n",
       "Price         0\n",
       "Method        0\n",
       "Regionname    0\n",
       "Bathroom      0\n",
       "Car           0\n",
       "Landsize      0\n",
       "Distance      0\n",
       "Bedroom       0\n",
       "dtype: int64"
      ]
     },
     "execution_count": 10,
     "metadata": {},
     "output_type": "execute_result"
    }
   ],
   "source": [
    "house.isnull().sum()"
   ]
  },
  {
   "cell_type": "markdown",
   "metadata": {},
   "source": [
    "`We see here no null values.`\n",
    "\n",
    "**WE ARE GOOD TO GO...**"
   ]
  },
  {
   "cell_type": "markdown",
   "metadata": {},
   "source": [
    "**Checking for outliers:**"
   ]
  },
  {
   "cell_type": "code",
   "execution_count": 11,
   "metadata": {},
   "outputs": [
    {
     "data": {
      "text/plain": [
       "<Figure size 1500x800 with 1 Axes>"
      ]
     },
     "metadata": {},
     "output_type": "display_data"
    }
   ],
   "source": [
    "import matplotlib.pyplot as plt\n",
    "plt.rcParams['figure.figsize'] = [15,8]\n",
    "house.drop(['Price','Landsize'],axis=1).boxplot()\n",
    "plt.show()"
   ]
  },
  {
   "cell_type": "markdown",
   "metadata": {},
   "source": [
    "`Price is a predicted feature and Landsize was a feature having high range of the values, that’s why we didn’t consider that feature as well. We can now give an inference that, data is giving the outliers, but the quantity is not much, hence we can keep it as it is, the reason is, we can see the features are normally distributed.`"
   ]
  },
  {
   "cell_type": "markdown",
   "metadata": {},
   "source": [
    "-------------"
   ]
  },
  {
   "cell_type": "markdown",
   "metadata": {},
   "source": [
    "## Train, Test Splitting:"
   ]
  },
  {
   "cell_type": "code",
   "execution_count": 12,
   "metadata": {
    "scrolled": true
   },
   "outputs": [
    {
     "name": "stdout",
     "output_type": "stream",
     "text": [
      "Train_Test_Data:\n",
      "Train Data: (2400, 6) \n",
      " (2400,)\n",
      "Test Data: (600, 6) \n",
      " (600,)\n"
     ]
    }
   ],
   "source": [
    "from sklearn.model_selection import train_test_split\n",
    "\n",
    "X = house_train.drop('Price', axis=1) ; y = house_train.Price\n",
    "Xtrain, Xtest, ytrain, ytest = train_test_split(X,y, train_size=0.80, test_size=0.20, random_state=42)\n",
    "\n",
    "print('Train_Test_Data:')\n",
    "print('Train Data:',Xtrain.shape,'\\n',ytrain.shape)\n",
    "print('Test Data:',Xtest.shape,'\\n',ytest.shape)"
   ]
  },
  {
   "cell_type": "markdown",
   "metadata": {},
   "source": [
    "`We have given 80% data for training and 20% data for testing.`"
   ]
  },
  {
   "cell_type": "markdown",
   "metadata": {},
   "source": [
    "--------------------------"
   ]
  },
  {
   "cell_type": "markdown",
   "metadata": {},
   "source": [
    "### Let's make a fundamental model for the analysis:"
   ]
  },
  {
   "cell_type": "code",
   "execution_count": 13,
   "metadata": {},
   "outputs": [
    {
     "data": {
      "text/plain": [
       "Index(['Rooms', 'Price', 'Bathroom', 'Car', 'Landsize', 'Distance', 'Bedroom'], dtype='object')"
      ]
     },
     "execution_count": 13,
     "metadata": {},
     "output_type": "execute_result"
    }
   ],
   "source": [
    "house_train.columns"
   ]
  },
  {
   "cell_type": "code",
   "execution_count": 14,
   "metadata": {
    "scrolled": true
   },
   "outputs": [
    {
     "name": "stderr",
     "output_type": "stream",
     "text": [
      "C:\\Users\\hi\\Anaconda3\\lib\\site-packages\\statsmodels\\tools\\_testing.py:19: FutureWarning: pandas.util.testing is deprecated. Use the functions in the public API at pandas.testing instead.\n",
      "  import pandas.util.testing as tm\n"
     ]
    },
    {
     "data": {
      "text/html": [
       "<table class=\"simpletable\">\n",
       "<caption>OLS Regression Results</caption>\n",
       "<tr>\n",
       "  <th>Dep. Variable:</th>          <td>Price</td>      <th>  R-squared:         </th> <td>   0.171</td> \n",
       "</tr>\n",
       "<tr>\n",
       "  <th>Model:</th>                   <td>OLS</td>       <th>  Adj. R-squared:    </th> <td>   0.169</td> \n",
       "</tr>\n",
       "<tr>\n",
       "  <th>Method:</th>             <td>Least Squares</td>  <th>  F-statistic:       </th> <td>   102.7</td> \n",
       "</tr>\n",
       "<tr>\n",
       "  <th>Date:</th>             <td>Sun, 07 Feb 2021</td> <th>  Prob (F-statistic):</th> <td>7.74e-118</td>\n",
       "</tr>\n",
       "<tr>\n",
       "  <th>Time:</th>                 <td>23:35:21</td>     <th>  Log-Likelihood:    </th> <td> -44126.</td> \n",
       "</tr>\n",
       "<tr>\n",
       "  <th>No. Observations:</th>      <td>  3000</td>      <th>  AIC:               </th> <td>8.827e+04</td>\n",
       "</tr>\n",
       "<tr>\n",
       "  <th>Df Residuals:</th>          <td>  2993</td>      <th>  BIC:               </th> <td>8.831e+04</td>\n",
       "</tr>\n",
       "<tr>\n",
       "  <th>Df Model:</th>              <td>     6</td>      <th>                     </th>     <td> </td>    \n",
       "</tr>\n",
       "<tr>\n",
       "  <th>Covariance Type:</th>      <td>nonrobust</td>    <th>                     </th>     <td> </td>    \n",
       "</tr>\n",
       "</table>\n",
       "<table class=\"simpletable\">\n",
       "<tr>\n",
       "      <td></td>         <th>coef</th>     <th>std err</th>      <th>t</th>      <th>P>|t|</th>  <th>[0.025</th>    <th>0.975]</th>  \n",
       "</tr>\n",
       "<tr>\n",
       "  <th>Intercept</th> <td> 2.371e+05</td> <td> 7.38e+04</td> <td>    3.211</td> <td> 0.001</td> <td> 9.23e+04</td> <td> 3.82e+05</td>\n",
       "</tr>\n",
       "<tr>\n",
       "  <th>Bedroom</th>   <td>-7440.3457</td> <td> 9817.004</td> <td>   -0.758</td> <td> 0.449</td> <td>-2.67e+04</td> <td> 1.18e+04</td>\n",
       "</tr>\n",
       "<tr>\n",
       "  <th>Distance</th>  <td> -709.8338</td> <td> 2556.160</td> <td>   -0.278</td> <td> 0.781</td> <td>-5721.843</td> <td> 4302.175</td>\n",
       "</tr>\n",
       "<tr>\n",
       "  <th>Landsize</th>  <td>   -6.9167</td> <td>    7.460</td> <td>   -0.927</td> <td> 0.354</td> <td>  -21.545</td> <td>    7.711</td>\n",
       "</tr>\n",
       "<tr>\n",
       "  <th>Car</th>       <td>-1.165e+04</td> <td> 1.25e+04</td> <td>   -0.930</td> <td> 0.353</td> <td>-3.62e+04</td> <td> 1.29e+04</td>\n",
       "</tr>\n",
       "<tr>\n",
       "  <th>Bathroom</th>  <td>-1.012e+04</td> <td> 1.47e+04</td> <td>   -0.687</td> <td> 0.492</td> <td> -3.9e+04</td> <td> 1.88e+04</td>\n",
       "</tr>\n",
       "<tr>\n",
       "  <th>Rooms</th>     <td> 2.846e+05</td> <td> 1.15e+04</td> <td>   24.638</td> <td> 0.000</td> <td> 2.62e+05</td> <td> 3.07e+05</td>\n",
       "</tr>\n",
       "</table>\n",
       "<table class=\"simpletable\">\n",
       "<tr>\n",
       "  <th>Omnibus:</th>       <td>1553.946</td> <th>  Durbin-Watson:     </th> <td>   1.426</td> \n",
       "</tr>\n",
       "<tr>\n",
       "  <th>Prob(Omnibus):</th>  <td> 0.000</td>  <th>  Jarque-Bera (JB):  </th> <td>14414.830</td>\n",
       "</tr>\n",
       "<tr>\n",
       "  <th>Skew:</th>           <td> 2.278</td>  <th>  Prob(JB):          </th> <td>    0.00</td> \n",
       "</tr>\n",
       "<tr>\n",
       "  <th>Kurtosis:</th>       <td>12.724</td>  <th>  Cond. No.          </th> <td>1.05e+04</td> \n",
       "</tr>\n",
       "</table><br/><br/>Warnings:<br/>[1] Standard Errors assume that the covariance matrix of the errors is correctly specified.<br/>[2] The condition number is large, 1.05e+04. This might indicate that there are<br/>strong multicollinearity or other numerical problems."
      ],
      "text/plain": [
       "<class 'statsmodels.iolib.summary.Summary'>\n",
       "\"\"\"\n",
       "                            OLS Regression Results                            \n",
       "==============================================================================\n",
       "Dep. Variable:                  Price   R-squared:                       0.171\n",
       "Model:                            OLS   Adj. R-squared:                  0.169\n",
       "Method:                 Least Squares   F-statistic:                     102.7\n",
       "Date:                Sun, 07 Feb 2021   Prob (F-statistic):          7.74e-118\n",
       "Time:                        23:35:21   Log-Likelihood:                -44126.\n",
       "No. Observations:                3000   AIC:                         8.827e+04\n",
       "Df Residuals:                    2993   BIC:                         8.831e+04\n",
       "Df Model:                           6                                         \n",
       "Covariance Type:            nonrobust                                         \n",
       "==============================================================================\n",
       "                 coef    std err          t      P>|t|      [0.025      0.975]\n",
       "------------------------------------------------------------------------------\n",
       "Intercept   2.371e+05   7.38e+04      3.211      0.001    9.23e+04    3.82e+05\n",
       "Bedroom    -7440.3457   9817.004     -0.758      0.449   -2.67e+04    1.18e+04\n",
       "Distance    -709.8338   2556.160     -0.278      0.781   -5721.843    4302.175\n",
       "Landsize      -6.9167      7.460     -0.927      0.354     -21.545       7.711\n",
       "Car        -1.165e+04   1.25e+04     -0.930      0.353   -3.62e+04    1.29e+04\n",
       "Bathroom   -1.012e+04   1.47e+04     -0.687      0.492    -3.9e+04    1.88e+04\n",
       "Rooms       2.846e+05   1.15e+04     24.638      0.000    2.62e+05    3.07e+05\n",
       "==============================================================================\n",
       "Omnibus:                     1553.946   Durbin-Watson:                   1.426\n",
       "Prob(Omnibus):                  0.000   Jarque-Bera (JB):            14414.830\n",
       "Skew:                           2.278   Prob(JB):                         0.00\n",
       "Kurtosis:                      12.724   Cond. No.                     1.05e+04\n",
       "==============================================================================\n",
       "\n",
       "Warnings:\n",
       "[1] Standard Errors assume that the covariance matrix of the errors is correctly specified.\n",
       "[2] The condition number is large, 1.05e+04. This might indicate that there are\n",
       "strong multicollinearity or other numerical problems.\n",
       "\"\"\""
      ]
     },
     "execution_count": 14,
     "metadata": {},
     "output_type": "execute_result"
    }
   ],
   "source": [
    "import statsmodels.formula.api as sm\n",
    "\n",
    "sm_model = sm.ols('Price~Bedroom+Distance+Landsize+Car+Bathroom+Rooms', \n",
    "                  data = house_train).fit()\n",
    "sm_model.summary()"
   ]
  },
  {
   "cell_type": "markdown",
   "metadata": {},
   "source": [
    "`We have complete information about the model regarding the data. We can see the AdjR2 value which is 0.169 which is very far from 1 and we say our model is not so good corresponding to all the features.`\n",
    "\n",
    "`Let’s reduce some features and see how we get the model goodness.`"
   ]
  },
  {
   "cell_type": "code",
   "execution_count": 15,
   "metadata": {
    "scrolled": false
   },
   "outputs": [
    {
     "data": {
      "text/html": [
       "<table class=\"simpletable\">\n",
       "<caption>OLS Regression Results</caption>\n",
       "<tr>\n",
       "  <th>Dep. Variable:</th>          <td>Price</td>      <th>  R-squared:         </th> <td>   0.001</td> \n",
       "</tr>\n",
       "<tr>\n",
       "  <th>Model:</th>                   <td>OLS</td>       <th>  Adj. R-squared:    </th> <td>   0.000</td> \n",
       "</tr>\n",
       "<tr>\n",
       "  <th>Method:</th>             <td>Least Squares</td>  <th>  F-statistic:       </th> <td>   1.494</td> \n",
       "</tr>\n",
       "<tr>\n",
       "  <th>Date:</th>             <td>Sun, 07 Feb 2021</td> <th>  Prob (F-statistic):</th>  <td> 0.214</td>  \n",
       "</tr>\n",
       "<tr>\n",
       "  <th>Time:</th>                 <td>23:35:21</td>     <th>  Log-Likelihood:    </th> <td> -44405.</td> \n",
       "</tr>\n",
       "<tr>\n",
       "  <th>No. Observations:</th>      <td>  3000</td>      <th>  AIC:               </th> <td>8.882e+04</td>\n",
       "</tr>\n",
       "<tr>\n",
       "  <th>Df Residuals:</th>          <td>  2996</td>      <th>  BIC:               </th> <td>8.884e+04</td>\n",
       "</tr>\n",
       "<tr>\n",
       "  <th>Df Model:</th>              <td>     3</td>      <th>                     </th>     <td> </td>    \n",
       "</tr>\n",
       "<tr>\n",
       "  <th>Covariance Type:</th>      <td>nonrobust</td>    <th>                     </th>     <td> </td>    \n",
       "</tr>\n",
       "</table>\n",
       "<table class=\"simpletable\">\n",
       "<tr>\n",
       "      <td></td>         <th>coef</th>     <th>std err</th>      <th>t</th>      <th>P>|t|</th>  <th>[0.025</th>    <th>0.975]</th>  \n",
       "</tr>\n",
       "<tr>\n",
       "  <th>Intercept</th> <td> 1.109e+06</td> <td> 6.06e+04</td> <td>   18.317</td> <td> 0.000</td> <td>  9.9e+05</td> <td> 1.23e+06</td>\n",
       "</tr>\n",
       "<tr>\n",
       "  <th>Distance</th>  <td>-1129.3137</td> <td> 2803.153</td> <td>   -0.403</td> <td> 0.687</td> <td>-6625.612</td> <td> 4366.985</td>\n",
       "</tr>\n",
       "<tr>\n",
       "  <th>Landsize</th>  <td>   -8.2613</td> <td>    8.157</td> <td>   -1.013</td> <td> 0.311</td> <td>  -24.255</td> <td>    7.732</td>\n",
       "</tr>\n",
       "<tr>\n",
       "  <th>Bathroom</th>  <td>-2.691e+04</td> <td> 1.53e+04</td> <td>   -1.764</td> <td> 0.078</td> <td>-5.68e+04</td> <td> 3005.815</td>\n",
       "</tr>\n",
       "</table>\n",
       "<table class=\"simpletable\">\n",
       "<tr>\n",
       "  <th>Omnibus:</th>       <td>1638.602</td> <th>  Durbin-Watson:     </th> <td>   1.541</td> \n",
       "</tr>\n",
       "<tr>\n",
       "  <th>Prob(Omnibus):</th>  <td> 0.000</td>  <th>  Jarque-Bera (JB):  </th> <td>14621.218</td>\n",
       "</tr>\n",
       "<tr>\n",
       "  <th>Skew:</th>           <td> 2.460</td>  <th>  Prob(JB):          </th> <td>    0.00</td> \n",
       "</tr>\n",
       "<tr>\n",
       "  <th>Kurtosis:</th>       <td>12.631</td>  <th>  Cond. No.          </th> <td>7.86e+03</td> \n",
       "</tr>\n",
       "</table><br/><br/>Warnings:<br/>[1] Standard Errors assume that the covariance matrix of the errors is correctly specified.<br/>[2] The condition number is large, 7.86e+03. This might indicate that there are<br/>strong multicollinearity or other numerical problems."
      ],
      "text/plain": [
       "<class 'statsmodels.iolib.summary.Summary'>\n",
       "\"\"\"\n",
       "                            OLS Regression Results                            \n",
       "==============================================================================\n",
       "Dep. Variable:                  Price   R-squared:                       0.001\n",
       "Model:                            OLS   Adj. R-squared:                  0.000\n",
       "Method:                 Least Squares   F-statistic:                     1.494\n",
       "Date:                Sun, 07 Feb 2021   Prob (F-statistic):              0.214\n",
       "Time:                        23:35:21   Log-Likelihood:                -44405.\n",
       "No. Observations:                3000   AIC:                         8.882e+04\n",
       "Df Residuals:                    2996   BIC:                         8.884e+04\n",
       "Df Model:                           3                                         \n",
       "Covariance Type:            nonrobust                                         \n",
       "==============================================================================\n",
       "                 coef    std err          t      P>|t|      [0.025      0.975]\n",
       "------------------------------------------------------------------------------\n",
       "Intercept   1.109e+06   6.06e+04     18.317      0.000     9.9e+05    1.23e+06\n",
       "Distance   -1129.3137   2803.153     -0.403      0.687   -6625.612    4366.985\n",
       "Landsize      -8.2613      8.157     -1.013      0.311     -24.255       7.732\n",
       "Bathroom   -2.691e+04   1.53e+04     -1.764      0.078   -5.68e+04    3005.815\n",
       "==============================================================================\n",
       "Omnibus:                     1638.602   Durbin-Watson:                   1.541\n",
       "Prob(Omnibus):                  0.000   Jarque-Bera (JB):            14621.218\n",
       "Skew:                           2.460   Prob(JB):                         0.00\n",
       "Kurtosis:                      12.631   Cond. No.                     7.86e+03\n",
       "==============================================================================\n",
       "\n",
       "Warnings:\n",
       "[1] Standard Errors assume that the covariance matrix of the errors is correctly specified.\n",
       "[2] The condition number is large, 7.86e+03. This might indicate that there are\n",
       "strong multicollinearity or other numerical problems.\n",
       "\"\"\""
      ]
     },
     "execution_count": 15,
     "metadata": {},
     "output_type": "execute_result"
    }
   ],
   "source": [
    "import statsmodels.formula.api as sm\n",
    "\n",
    "sm_model_1 = sm.ols('Price~Distance+Landsize+Bathroom', \n",
    "                  data = house_train).fit()\n",
    "sm_model_1.summary()"
   ]
  },
  {
   "cell_type": "markdown",
   "metadata": {},
   "source": [
    "`We are observing here a tremendous change in model behavior. We can see that the AdjR2 values has fell down to 0, which we cannot remove the features from the data.`\n",
    "\n",
    "`Let’s see the observation of features from the above base model:`\n",
    "    \n",
    "`Coefficient values are showing that the feature impact exists on the dependent variable but the impact is negative  for all the time.`\n",
    "\n",
    "`This was the basic fundamental structure of the data what we have studied.` "
   ]
  },
  {
   "cell_type": "markdown",
   "metadata": {},
   "source": [
    "---------------------------"
   ]
  },
  {
   "cell_type": "markdown",
   "metadata": {},
   "source": [
    "`This seems to be not good for the model. There is a technique in Simple Regression which automatically selects the best features for the model. Let’s use the technique to get the good model.`\n",
    "\n",
    "`The technique is called is Sequential Feature Selector (SFS) technique, which gives us the best features for the model among all.`\n",
    "\n",
    "`There are several techniques along the SLR, but we randomly chose this technique for our model.` "
   ]
  },
  {
   "cell_type": "code",
   "execution_count": 16,
   "metadata": {
    "scrolled": true
   },
   "outputs": [
    {
     "name": "stderr",
     "output_type": "stream",
     "text": [
      "[Parallel(n_jobs=1)]: Using backend SequentialBackend with 1 concurrent workers.\n",
      "[Parallel(n_jobs=1)]: Done   1 out of   1 | elapsed:    0.0s remaining:    0.0s\n",
      "[Parallel(n_jobs=1)]: Done   6 out of   6 | elapsed:    0.2s finished\n",
      "\n",
      "[2021-02-07 23:35:21] Features: 1/6 -- score: 0.15647107586208686[Parallel(n_jobs=1)]: Using backend SequentialBackend with 1 concurrent workers.\n",
      "[Parallel(n_jobs=1)]: Done   1 out of   1 | elapsed:    0.0s remaining:    0.0s\n",
      "[Parallel(n_jobs=1)]: Done   5 out of   5 | elapsed:    0.1s finished\n",
      "\n",
      "[2021-02-07 23:35:22] Features: 2/6 -- score: 0.15663215197313912[Parallel(n_jobs=1)]: Using backend SequentialBackend with 1 concurrent workers.\n",
      "[Parallel(n_jobs=1)]: Done   1 out of   1 | elapsed:    0.0s remaining:    0.0s\n",
      "[Parallel(n_jobs=1)]: Done   4 out of   4 | elapsed:    0.1s finished\n",
      "\n",
      "[2021-02-07 23:35:22] Features: 3/6 -- score: 0.1568961477484945[Parallel(n_jobs=1)]: Using backend SequentialBackend with 1 concurrent workers.\n",
      "[Parallel(n_jobs=1)]: Done   1 out of   1 | elapsed:    0.0s remaining:    0.0s\n",
      "[Parallel(n_jobs=1)]: Done   3 out of   3 | elapsed:    0.1s finished\n",
      "\n",
      "[2021-02-07 23:35:22] Features: 4/6 -- score: 0.15684132741442822[Parallel(n_jobs=1)]: Using backend SequentialBackend with 1 concurrent workers.\n",
      "[Parallel(n_jobs=1)]: Done   1 out of   1 | elapsed:    0.0s remaining:    0.0s\n",
      "[Parallel(n_jobs=1)]: Done   2 out of   2 | elapsed:    0.0s finished\n",
      "\n",
      "[2021-02-07 23:35:22] Features: 5/6 -- score: 0.1564882627724014[Parallel(n_jobs=1)]: Using backend SequentialBackend with 1 concurrent workers.\n"
     ]
    },
    {
     "name": "stdout",
     "output_type": "stream",
     "text": [
      "Best_Features:  ('Rooms', 'Bathroom', 'Landsize')\n"
     ]
    },
    {
     "name": "stderr",
     "output_type": "stream",
     "text": [
      "[Parallel(n_jobs=1)]: Done   1 out of   1 | elapsed:    0.0s remaining:    0.0s\n",
      "[Parallel(n_jobs=1)]: Done   1 out of   1 | elapsed:    0.0s finished\n",
      "\n",
      "[2021-02-07 23:35:22] Features: 6/6 -- score: 0.1559015200342915"
     ]
    }
   ],
   "source": [
    "from mlxtend.feature_selection import SequentialFeatureSelector as sfs\n",
    "from sklearn.linear_model import LinearRegression\n",
    "LR = LinearRegression()\n",
    "\n",
    "fs = sfs(estimator=LR, k_features=\"best\", forward = True, \n",
    "         verbose = 2, scoring = \"r2\", cv = 14)\n",
    "sfsmodel = fs.fit(X, y)\n",
    "print(\"Best_Features: \", sfsmodel.k_feature_names_)"
   ]
  },
  {
   "cell_type": "markdown",
   "metadata": {},
   "source": [
    "**Model after the best features eliminations:**"
   ]
  },
  {
   "cell_type": "code",
   "execution_count": 17,
   "metadata": {
    "scrolled": true
   },
   "outputs": [
    {
     "data": {
      "text/html": [
       "<table class=\"simpletable\">\n",
       "<caption>OLS Regression Results</caption>\n",
       "<tr>\n",
       "  <th>Dep. Variable:</th>          <td>Price</td>      <th>  R-squared:         </th> <td>   0.170</td> \n",
       "</tr>\n",
       "<tr>\n",
       "  <th>Model:</th>                   <td>OLS</td>       <th>  Adj. R-squared:    </th> <td>   0.169</td> \n",
       "</tr>\n",
       "<tr>\n",
       "  <th>Method:</th>             <td>Least Squares</td>  <th>  F-statistic:       </th> <td>   204.9</td> \n",
       "</tr>\n",
       "<tr>\n",
       "  <th>Date:</th>             <td>Sun, 07 Feb 2021</td> <th>  Prob (F-statistic):</th> <td>6.96e-121</td>\n",
       "</tr>\n",
       "<tr>\n",
       "  <th>Time:</th>                 <td>23:35:22</td>     <th>  Log-Likelihood:    </th> <td> -44127.</td> \n",
       "</tr>\n",
       "<tr>\n",
       "  <th>No. Observations:</th>      <td>  3000</td>      <th>  AIC:               </th> <td>8.826e+04</td>\n",
       "</tr>\n",
       "<tr>\n",
       "  <th>Df Residuals:</th>          <td>  2996</td>      <th>  BIC:               </th> <td>8.829e+04</td>\n",
       "</tr>\n",
       "<tr>\n",
       "  <th>Df Model:</th>              <td>     3</td>      <th>                     </th>     <td> </td>    \n",
       "</tr>\n",
       "<tr>\n",
       "  <th>Covariance Type:</th>      <td>nonrobust</td>    <th>                     </th>     <td> </td>    \n",
       "</tr>\n",
       "</table>\n",
       "<table class=\"simpletable\">\n",
       "<tr>\n",
       "      <td></td>         <th>coef</th>     <th>std err</th>      <th>t</th>      <th>P>|t|</th>  <th>[0.025</th>    <th>0.975]</th>  \n",
       "</tr>\n",
       "<tr>\n",
       "  <th>Intercept</th> <td> 1.886e+05</td> <td> 4.41e+04</td> <td>    4.276</td> <td> 0.000</td> <td> 1.02e+05</td> <td> 2.75e+05</td>\n",
       "</tr>\n",
       "<tr>\n",
       "  <th>Rooms</th>     <td> 2.849e+05</td> <td> 1.15e+04</td> <td>   24.688</td> <td> 0.000</td> <td> 2.62e+05</td> <td> 3.08e+05</td>\n",
       "</tr>\n",
       "<tr>\n",
       "  <th>Bathroom</th>  <td>-1.456e+04</td> <td> 1.39e+04</td> <td>   -1.046</td> <td> 0.296</td> <td>-4.19e+04</td> <td> 1.27e+04</td>\n",
       "</tr>\n",
       "<tr>\n",
       "  <th>Landsize</th>  <td>   -7.5106</td> <td>    7.435</td> <td>   -1.010</td> <td> 0.313</td> <td>  -22.090</td> <td>    7.068</td>\n",
       "</tr>\n",
       "</table>\n",
       "<table class=\"simpletable\">\n",
       "<tr>\n",
       "  <th>Omnibus:</th>       <td>1554.604</td> <th>  Durbin-Watson:     </th> <td>   1.426</td> \n",
       "</tr>\n",
       "<tr>\n",
       "  <th>Prob(Omnibus):</th>  <td> 0.000</td>  <th>  Jarque-Bera (JB):  </th> <td>14408.381</td>\n",
       "</tr>\n",
       "<tr>\n",
       "  <th>Skew:</th>           <td> 2.280</td>  <th>  Prob(JB):          </th> <td>    0.00</td> \n",
       "</tr>\n",
       "<tr>\n",
       "  <th>Kurtosis:</th>       <td>12.720</td>  <th>  Cond. No.          </th> <td>6.47e+03</td> \n",
       "</tr>\n",
       "</table><br/><br/>Warnings:<br/>[1] Standard Errors assume that the covariance matrix of the errors is correctly specified.<br/>[2] The condition number is large, 6.47e+03. This might indicate that there are<br/>strong multicollinearity or other numerical problems."
      ],
      "text/plain": [
       "<class 'statsmodels.iolib.summary.Summary'>\n",
       "\"\"\"\n",
       "                            OLS Regression Results                            \n",
       "==============================================================================\n",
       "Dep. Variable:                  Price   R-squared:                       0.170\n",
       "Model:                            OLS   Adj. R-squared:                  0.169\n",
       "Method:                 Least Squares   F-statistic:                     204.9\n",
       "Date:                Sun, 07 Feb 2021   Prob (F-statistic):          6.96e-121\n",
       "Time:                        23:35:22   Log-Likelihood:                -44127.\n",
       "No. Observations:                3000   AIC:                         8.826e+04\n",
       "Df Residuals:                    2996   BIC:                         8.829e+04\n",
       "Df Model:                           3                                         \n",
       "Covariance Type:            nonrobust                                         \n",
       "==============================================================================\n",
       "                 coef    std err          t      P>|t|      [0.025      0.975]\n",
       "------------------------------------------------------------------------------\n",
       "Intercept   1.886e+05   4.41e+04      4.276      0.000    1.02e+05    2.75e+05\n",
       "Rooms       2.849e+05   1.15e+04     24.688      0.000    2.62e+05    3.08e+05\n",
       "Bathroom   -1.456e+04   1.39e+04     -1.046      0.296   -4.19e+04    1.27e+04\n",
       "Landsize      -7.5106      7.435     -1.010      0.313     -22.090       7.068\n",
       "==============================================================================\n",
       "Omnibus:                     1554.604   Durbin-Watson:                   1.426\n",
       "Prob(Omnibus):                  0.000   Jarque-Bera (JB):            14408.381\n",
       "Skew:                           2.280   Prob(JB):                         0.00\n",
       "Kurtosis:                      12.720   Cond. No.                     6.47e+03\n",
       "==============================================================================\n",
       "\n",
       "Warnings:\n",
       "[1] Standard Errors assume that the covariance matrix of the errors is correctly specified.\n",
       "[2] The condition number is large, 6.47e+03. This might indicate that there are\n",
       "strong multicollinearity or other numerical problems.\n",
       "\"\"\""
      ]
     },
     "execution_count": 17,
     "metadata": {},
     "output_type": "execute_result"
    }
   ],
   "source": [
    "import statsmodels.formula.api as sm\n",
    "\n",
    "sm_model_sfs = sm.ols('Price~Rooms+Bathroom+Landsize', \n",
    "                  data = house_train).fit()\n",
    "sm_model_sfs.summary()"
   ]
  },
  {
   "cell_type": "markdown",
   "metadata": {},
   "source": [
    "`We see here the AdjR2 value is quite good than that of sfsmodel. This is the best point of the libraries and inbuilt functions which are helping to work simpler into the steam. Even we see that the coefficient values show the impact. Moreover Rooms shows now the positive impact on the dependent variable. Which seems Rooms is contributing very much good for the price. Since P>|t| < 0.05, which proves our statement true for Rooms.`"
   ]
  },
  {
   "cell_type": "markdown",
   "metadata": {},
   "source": [
    "### Why Rooms is best?\n",
    "\n",
    "`GradientBoostingRegressor` "
   ]
  },
  {
   "cell_type": "code",
   "execution_count": 18,
   "metadata": {
    "scrolled": true
   },
   "outputs": [
    {
     "name": "stderr",
     "output_type": "stream",
     "text": [
      "[Parallel(n_jobs=1)]: Using backend SequentialBackend with 1 concurrent workers.\n",
      "[Parallel(n_jobs=1)]: Done   1 out of   1 | elapsed:    1.0s remaining:    0.0s\n",
      "[Parallel(n_jobs=1)]: Done   6 out of   6 | elapsed:    5.9s finished\n",
      "\n",
      "[2021-02-07 23:35:29] Features: 1/6 -- score: 0.15416475560512088[Parallel(n_jobs=1)]: Using backend SequentialBackend with 1 concurrent workers.\n",
      "[Parallel(n_jobs=1)]: Done   1 out of   1 | elapsed:    1.0s remaining:    0.0s\n",
      "[Parallel(n_jobs=1)]: Done   5 out of   5 | elapsed:    5.8s finished\n",
      "\n",
      "[2021-02-07 23:35:34] Features: 2/6 -- score: 0.13927154673278655[Parallel(n_jobs=1)]: Using backend SequentialBackend with 1 concurrent workers.\n",
      "[Parallel(n_jobs=1)]: Done   1 out of   1 | elapsed:    1.2s remaining:    0.0s\n",
      "[Parallel(n_jobs=1)]: Done   4 out of   4 | elapsed:    5.4s finished\n",
      "\n",
      "[2021-02-07 23:35:40] Features: 3/6 -- score: 0.13654745959034878[Parallel(n_jobs=1)]: Using backend SequentialBackend with 1 concurrent workers.\n",
      "[Parallel(n_jobs=1)]: Done   1 out of   1 | elapsed:    1.3s remaining:    0.0s\n",
      "[Parallel(n_jobs=1)]: Done   3 out of   3 | elapsed:    4.6s finished\n",
      "\n",
      "[2021-02-07 23:35:45] Features: 4/6 -- score: 0.1319474334275113[Parallel(n_jobs=1)]: Using backend SequentialBackend with 1 concurrent workers.\n",
      "[Parallel(n_jobs=1)]: Done   1 out of   1 | elapsed:    1.7s remaining:    0.0s\n",
      "[Parallel(n_jobs=1)]: Done   2 out of   2 | elapsed:    3.4s finished\n",
      "\n",
      "[2021-02-07 23:35:48] Features: 5/6 -- score: 0.1218322610278438[Parallel(n_jobs=1)]: Using backend SequentialBackend with 1 concurrent workers.\n"
     ]
    },
    {
     "name": "stdout",
     "output_type": "stream",
     "text": [
      "Features:  ('Rooms',)\n",
      "R2 Score:  0.15416475560512088\n"
     ]
    },
    {
     "name": "stderr",
     "output_type": "stream",
     "text": [
      "[Parallel(n_jobs=1)]: Done   1 out of   1 | elapsed:    2.0s remaining:    0.0s\n",
      "[Parallel(n_jobs=1)]: Done   1 out of   1 | elapsed:    2.0s finished\n",
      "\n",
      "[2021-02-07 23:35:50] Features: 6/6 -- score: 0.12088063708346179"
     ]
    }
   ],
   "source": [
    "from sklearn.ensemble import GradientBoostingRegressor\n",
    "from mlxtend.feature_selection import SequentialFeatureSelector as sfs\n",
    "gbm = GradientBoostingRegressor()\n",
    "fs = sfs(estimator=gbm, k_features=\"best\", forward = True, \n",
    "         verbose = 2, scoring = \"r2\", cv = 14)\n",
    "sfsmodel = fs.fit(X, y)\n",
    "print(\"Features: \", sfsmodel.k_feature_names_)\n",
    "print(\"R2 Score: \", sfsmodel.k_score_)"
   ]
  },
  {
   "cell_type": "markdown",
   "metadata": {},
   "source": [
    "### Prediction using the model:"
   ]
  },
  {
   "cell_type": "code",
   "execution_count": 19,
   "metadata": {
    "scrolled": true
   },
   "outputs": [
    {
     "data": {
      "text/html": [
       "<div>\n",
       "<style scoped>\n",
       "    .dataframe tbody tr th:only-of-type {\n",
       "        vertical-align: middle;\n",
       "    }\n",
       "\n",
       "    .dataframe tbody tr th {\n",
       "        vertical-align: top;\n",
       "    }\n",
       "\n",
       "    .dataframe thead th {\n",
       "        text-align: right;\n",
       "    }\n",
       "</style>\n",
       "<table border=\"1\" class=\"dataframe\">\n",
       "  <thead>\n",
       "    <tr style=\"text-align: right;\">\n",
       "      <th></th>\n",
       "      <th>Rooms</th>\n",
       "      <th>Type</th>\n",
       "      <th>Method</th>\n",
       "      <th>Regionname</th>\n",
       "      <th>Bathroom</th>\n",
       "      <th>Car</th>\n",
       "      <th>Landsize</th>\n",
       "      <th>Distance</th>\n",
       "      <th>Bedroom</th>\n",
       "    </tr>\n",
       "  </thead>\n",
       "  <tbody>\n",
       "    <tr>\n",
       "      <th>3000</th>\n",
       "      <td>4</td>\n",
       "      <td>h</td>\n",
       "      <td>S</td>\n",
       "      <td>Eastern Metropolitan</td>\n",
       "      <td>1</td>\n",
       "      <td>1</td>\n",
       "      <td>245</td>\n",
       "      <td>17.4</td>\n",
       "      <td>4</td>\n",
       "    </tr>\n",
       "    <tr>\n",
       "      <th>3001</th>\n",
       "      <td>4</td>\n",
       "      <td>h</td>\n",
       "      <td>S</td>\n",
       "      <td>Southern Metropolitan</td>\n",
       "      <td>1</td>\n",
       "      <td>2</td>\n",
       "      <td>590</td>\n",
       "      <td>21.4</td>\n",
       "      <td>1</td>\n",
       "    </tr>\n",
       "    <tr>\n",
       "      <th>3002</th>\n",
       "      <td>2</td>\n",
       "      <td>u</td>\n",
       "      <td>S</td>\n",
       "      <td>Southern Metropolitan</td>\n",
       "      <td>2</td>\n",
       "      <td>2</td>\n",
       "      <td>602</td>\n",
       "      <td>20.9</td>\n",
       "      <td>2</td>\n",
       "    </tr>\n",
       "    <tr>\n",
       "      <th>3003</th>\n",
       "      <td>3</td>\n",
       "      <td>t</td>\n",
       "      <td>S</td>\n",
       "      <td>Southern Metropolitan</td>\n",
       "      <td>1</td>\n",
       "      <td>1</td>\n",
       "      <td>172</td>\n",
       "      <td>18.6</td>\n",
       "      <td>2</td>\n",
       "    </tr>\n",
       "    <tr>\n",
       "      <th>3004</th>\n",
       "      <td>2</td>\n",
       "      <td>h</td>\n",
       "      <td>S</td>\n",
       "      <td>Southern Metropolitan</td>\n",
       "      <td>1</td>\n",
       "      <td>2</td>\n",
       "      <td>258</td>\n",
       "      <td>25.3</td>\n",
       "      <td>3</td>\n",
       "    </tr>\n",
       "  </tbody>\n",
       "</table>\n",
       "</div>"
      ],
      "text/plain": [
       "      Rooms Type Method             Regionname  Bathroom  Car  Landsize  \\\n",
       "3000      4    h      S   Eastern Metropolitan         1    1       245   \n",
       "3001      4    h      S  Southern Metropolitan         1    2       590   \n",
       "3002      2    u      S  Southern Metropolitan         2    2       602   \n",
       "3003      3    t      S  Southern Metropolitan         1    1       172   \n",
       "3004      2    h      S  Southern Metropolitan         1    2       258   \n",
       "\n",
       "      Distance  Bedroom  \n",
       "3000      17.4        4  \n",
       "3001      21.4        1  \n",
       "3002      20.9        2  \n",
       "3003      18.6        2  \n",
       "3004      25.3        3  "
      ]
     },
     "execution_count": 19,
     "metadata": {},
     "output_type": "execute_result"
    }
   ],
   "source": [
    "house_test_data.head(5)"
   ]
  },
  {
   "cell_type": "code",
   "execution_count": 20,
   "metadata": {
    "scrolled": true
   },
   "outputs": [],
   "source": [
    "predicted_values = sm_model_sfs.predict(house_test)\n",
    "\n",
    "house_test_data['Predicted_Price'] = predicted_values"
   ]
  },
  {
   "cell_type": "code",
   "execution_count": 21,
   "metadata": {
    "scrolled": true
   },
   "outputs": [
    {
     "data": {
      "text/html": [
       "<div>\n",
       "<style scoped>\n",
       "    .dataframe tbody tr th:only-of-type {\n",
       "        vertical-align: middle;\n",
       "    }\n",
       "\n",
       "    .dataframe tbody tr th {\n",
       "        vertical-align: top;\n",
       "    }\n",
       "\n",
       "    .dataframe thead th {\n",
       "        text-align: right;\n",
       "    }\n",
       "</style>\n",
       "<table border=\"1\" class=\"dataframe\">\n",
       "  <thead>\n",
       "    <tr style=\"text-align: right;\">\n",
       "      <th></th>\n",
       "      <th>Rooms</th>\n",
       "      <th>Type</th>\n",
       "      <th>Method</th>\n",
       "      <th>Regionname</th>\n",
       "      <th>Bathroom</th>\n",
       "      <th>Car</th>\n",
       "      <th>Landsize</th>\n",
       "      <th>Distance</th>\n",
       "      <th>Bedroom</th>\n",
       "      <th>Predicted_Price</th>\n",
       "    </tr>\n",
       "  </thead>\n",
       "  <tbody>\n",
       "    <tr>\n",
       "      <th>3000</th>\n",
       "      <td>4</td>\n",
       "      <td>h</td>\n",
       "      <td>S</td>\n",
       "      <td>Eastern Metropolitan</td>\n",
       "      <td>1</td>\n",
       "      <td>1</td>\n",
       "      <td>245</td>\n",
       "      <td>17.4</td>\n",
       "      <td>4</td>\n",
       "      <td>1.311961e+06</td>\n",
       "    </tr>\n",
       "    <tr>\n",
       "      <th>3001</th>\n",
       "      <td>4</td>\n",
       "      <td>h</td>\n",
       "      <td>S</td>\n",
       "      <td>Southern Metropolitan</td>\n",
       "      <td>1</td>\n",
       "      <td>2</td>\n",
       "      <td>590</td>\n",
       "      <td>21.4</td>\n",
       "      <td>1</td>\n",
       "      <td>1.309370e+06</td>\n",
       "    </tr>\n",
       "    <tr>\n",
       "      <th>3002</th>\n",
       "      <td>2</td>\n",
       "      <td>u</td>\n",
       "      <td>S</td>\n",
       "      <td>Southern Metropolitan</td>\n",
       "      <td>2</td>\n",
       "      <td>2</td>\n",
       "      <td>602</td>\n",
       "      <td>20.9</td>\n",
       "      <td>2</td>\n",
       "      <td>7.248364e+05</td>\n",
       "    </tr>\n",
       "    <tr>\n",
       "      <th>3003</th>\n",
       "      <td>3</td>\n",
       "      <td>t</td>\n",
       "      <td>S</td>\n",
       "      <td>Southern Metropolitan</td>\n",
       "      <td>1</td>\n",
       "      <td>1</td>\n",
       "      <td>172</td>\n",
       "      <td>18.6</td>\n",
       "      <td>2</td>\n",
       "      <td>1.027568e+06</td>\n",
       "    </tr>\n",
       "    <tr>\n",
       "      <th>3004</th>\n",
       "      <td>2</td>\n",
       "      <td>h</td>\n",
       "      <td>S</td>\n",
       "      <td>Southern Metropolitan</td>\n",
       "      <td>1</td>\n",
       "      <td>2</td>\n",
       "      <td>258</td>\n",
       "      <td>25.3</td>\n",
       "      <td>3</td>\n",
       "      <td>7.419804e+05</td>\n",
       "    </tr>\n",
       "  </tbody>\n",
       "</table>\n",
       "</div>"
      ],
      "text/plain": [
       "      Rooms Type Method             Regionname  Bathroom  Car  Landsize  \\\n",
       "3000      4    h      S   Eastern Metropolitan         1    1       245   \n",
       "3001      4    h      S  Southern Metropolitan         1    2       590   \n",
       "3002      2    u      S  Southern Metropolitan         2    2       602   \n",
       "3003      3    t      S  Southern Metropolitan         1    1       172   \n",
       "3004      2    h      S  Southern Metropolitan         1    2       258   \n",
       "\n",
       "      Distance  Bedroom  Predicted_Price  \n",
       "3000      17.4        4     1.311961e+06  \n",
       "3001      21.4        1     1.309370e+06  \n",
       "3002      20.9        2     7.248364e+05  \n",
       "3003      18.6        2     1.027568e+06  \n",
       "3004      25.3        3     7.419804e+05  "
      ]
     },
     "execution_count": 21,
     "metadata": {},
     "output_type": "execute_result"
    }
   ],
   "source": [
    "house_test_data.head()"
   ]
  },
  {
   "cell_type": "markdown",
   "metadata": {},
   "source": [
    "**Error Difference in the price value:**"
   ]
  },
  {
   "cell_type": "code",
   "execution_count": 22,
   "metadata": {
    "scrolled": false
   },
   "outputs": [
    {
     "data": {
      "image/png": "[encoded data removed]",
      "text/plain": [
       "<Figure size 1080x720 with 1 Axes>"
      ]
     },
     "metadata": {
      "needs_background": "light"
     },
     "output_type": "display_data"
    }
   ],
   "source": [
    "import matplotlib.pyplot as plt\n",
    "plt.rcParams['figure.figsize'] = [15,10]\n",
    "\n",
    "(house_test_data.Predicted_Price - house_test.Price).plot(kind='bar', color='black')\n",
    "plt.show()"
   ]
  },
  {
   "cell_type": "code",
   "execution_count": 23,
   "metadata": {
    "scrolled": true
   },
   "outputs": [
    {
     "data": {
      "text/plain": [
       "1693684.8992342816"
      ]
     },
     "execution_count": 23,
     "metadata": {},
     "output_type": "execute_result"
    }
   ],
   "source": [
    "(house_test_data.Predicted_Price - house_test.Price).max()"
   ]
  },
  {
   "cell_type": "markdown",
   "metadata": {},
   "source": [
    "--------------"
   ]
  },
  {
   "cell_type": "markdown",
   "metadata": {},
   "source": [
    "`We see a drastic change in our predicted and actual data. We see a huge increase and decrease in the data value(s) of price prediction feature. Moreover we see here the change into the price is almost 1693684.90, which is literally very much high indeed in millions.`\n",
    "\n",
    "`Now the question comes in mind, how to solve such issues for this scenario without an issue of affordance. We wish to reduce error in our model to get good prediction, because 1.6M price difference is really unaffordable. Hence we approach two ways:`\n",
    "\n",
    "•\t`Assumption:` If the data does not follow such assumption for the model, Linear Regression is not going to work for good predictions.\n",
    "\n",
    "•\t`High models:` If assumptions are not met, ultimately we go with some other models, which deal with such issues. \n",
    "\n",
    "#### Let’s see, what assumption we actually consider while working specifically for Linear Regression. \n"
   ]
  },
  {
   "cell_type": "markdown",
   "metadata": {},
   "source": [
    "### Assumptions:"
   ]
  },
  {
   "cell_type": "markdown",
   "metadata": {},
   "source": [
    "**1) LINEARITY:**"
   ]
  },
  {
   "cell_type": "markdown",
   "metadata": {},
   "source": [
    "#### Hypothesis:\n",
    "* H0: Data is normal.\n",
    "* H1: Data is not normal."
   ]
  },
  {
   "cell_type": "code",
   "execution_count": 24,
   "metadata": {},
   "outputs": [
    {
     "name": "stdout",
     "output_type": "stream",
     "text": [
      "pvalue: 0.9617697656303916\n",
      "\n",
      "We are failed to reject our null hypothesis, hence we claim that Data is normal.\n"
     ]
    }
   ],
   "source": [
    "import statsmodels.api as sm\n",
    "crit, pvalue = sm.stats.diagnostic.linear_rainbow(sm_model_sfs)\n",
    "print('pvalue:',pvalue)\n",
    "print()\n",
    "if pvalue > 0.05:\n",
    "    print('We are failed to reject our null hypothesis, hence we claim that Data is normal.')\n",
    "else:\n",
    "    print('We accept alternate hypothesis, hence we claim that Data is not normal.')"
   ]
  },
  {
   "cell_type": "code",
   "execution_count": 25,
   "metadata": {
    "scrolled": true
   },
   "outputs": [
    {
     "name": "stdout",
     "output_type": "stream",
     "text": [
      "pvalue: 0.9572083332642494\n",
      "\n",
      "We are failed to reject our null hypothesis, hence we claim that Data is normal.\n"
     ]
    }
   ],
   "source": [
    "import statsmodels.api as sm\n",
    "crit, pvalue = sm.stats.diagnostic.linear_rainbow(sm_model)\n",
    "print('pvalue:',pvalue)\n",
    "print()\n",
    "if pvalue > 0.05:\n",
    "    print('We are failed to reject our null hypothesis, hence we claim that Data is normal.')\n",
    "else:\n",
    "    print('We accept alternate hypothesis, hence we claim that Data is not normal.')"
   ]
  },
  {
   "cell_type": "markdown",
   "metadata": {},
   "source": [
    "-------------------"
   ]
  },
  {
   "cell_type": "markdown",
   "metadata": {},
   "source": [
    "**2) NORMALITY:**"
   ]
  },
  {
   "cell_type": "code",
   "execution_count": 26,
   "metadata": {},
   "outputs": [
    {
     "data": {
      "text/plain": [
       "(0.8395354151725769, 0.0)"
      ]
     },
     "execution_count": 26,
     "metadata": {},
     "output_type": "execute_result"
    }
   ],
   "source": [
    "import scipy.stats as st\n",
    "st.shapiro(sm_model_sfs.resid)"
   ]
  },
  {
   "cell_type": "code",
   "execution_count": 27,
   "metadata": {
    "scrolled": true
   },
   "outputs": [
    {
     "data": {
      "text/plain": [
       "(14408.38138175497, 0.0)"
      ]
     },
     "execution_count": 27,
     "metadata": {},
     "output_type": "execute_result"
    }
   ],
   "source": [
    "st.jarque_bera(sm_model_sfs.resid)"
   ]
  },
  {
   "cell_type": "markdown",
   "metadata": {},
   "source": [
    "-------"
   ]
  },
  {
   "cell_type": "code",
   "execution_count": 28,
   "metadata": {},
   "outputs": [
    {
     "data": {
      "text/plain": [
       "(0.8399116396903992, 0.0)"
      ]
     },
     "execution_count": 28,
     "metadata": {},
     "output_type": "execute_result"
    }
   ],
   "source": [
    "import scipy.stats as st\n",
    "st.shapiro(sm_model.resid)"
   ]
  },
  {
   "cell_type": "code",
   "execution_count": 29,
   "metadata": {
    "scrolled": true
   },
   "outputs": [
    {
     "data": {
      "text/plain": [
       "(14414.829935348196, 0.0)"
      ]
     },
     "execution_count": 29,
     "metadata": {},
     "output_type": "execute_result"
    }
   ],
   "source": [
    "st.jarque_bera(sm_model.resid)"
   ]
  },
  {
   "cell_type": "markdown",
   "metadata": {},
   "source": [
    "`We tried with shapiro as well as jarque_bera to check the normality, but unfortunately we observed that our p-value is tremendously down from 5%, which is indeed 0.0 which we can say the residuals are not normal. `\n",
    "\n",
    "`Conclusion1:` A simple conclusion, we can say that, we were not getting model with good accuracy just because our data does not follow Normality rule. "
   ]
  },
  {
   "cell_type": "markdown",
   "metadata": {},
   "source": [
    "### Residual plot:"
   ]
  },
  {
   "cell_type": "code",
   "execution_count": 30,
   "metadata": {
    "scrolled": true
   },
   "outputs": [
    {
     "data": {
      "image/png": "[encoded data removed]",
      "text/plain": [
       "<Figure size 1080x720 with 1 Axes>"
      ]
     },
     "metadata": {
      "needs_background": "light"
     },
     "output_type": "display_data"
    }
   ],
   "source": [
    "from scipy.stats import probplot\n",
    "import matplotlib.pyplot as plt\n",
    "\n",
    "probplot(sm_model_sfs.resid, plot = plt)\n",
    "plt.grid()\n",
    "plt.show()"
   ]
  },
  {
   "cell_type": "markdown",
   "metadata": {},
   "source": [
    "`We have a better idea about the residual normality that, residuals are not normally distributed; graph shows a huge variance into the data.`"
   ]
  },
  {
   "cell_type": "markdown",
   "metadata": {},
   "source": [
    "----------"
   ]
  },
  {
   "cell_type": "markdown",
   "metadata": {},
   "source": [
    "**3) MULTICOLLINEARITY:**"
   ]
  },
  {
   "cell_type": "code",
   "execution_count": 31,
   "metadata": {},
   "outputs": [
    {
     "data": {
      "text/html": [
       "<div>\n",
       "<style scoped>\n",
       "    .dataframe tbody tr th:only-of-type {\n",
       "        vertical-align: middle;\n",
       "    }\n",
       "\n",
       "    .dataframe tbody tr th {\n",
       "        vertical-align: top;\n",
       "    }\n",
       "\n",
       "    .dataframe thead th {\n",
       "        text-align: right;\n",
       "    }\n",
       "</style>\n",
       "<table border=\"1\" class=\"dataframe\">\n",
       "  <thead>\n",
       "    <tr style=\"text-align: right;\">\n",
       "      <th></th>\n",
       "      <th>columns</th>\n",
       "      <th>VIF</th>\n",
       "    </tr>\n",
       "  </thead>\n",
       "  <tbody>\n",
       "    <tr>\n",
       "      <th>3</th>\n",
       "      <td>Landsize</td>\n",
       "      <td>1.154244</td>\n",
       "    </tr>\n",
       "    <tr>\n",
       "      <th>2</th>\n",
       "      <td>Car</td>\n",
       "      <td>4.018260</td>\n",
       "    </tr>\n",
       "    <tr>\n",
       "      <th>1</th>\n",
       "      <td>Bathroom</td>\n",
       "      <td>5.653603</td>\n",
       "    </tr>\n",
       "    <tr>\n",
       "      <th>5</th>\n",
       "      <td>Bedroom</td>\n",
       "      <td>7.277079</td>\n",
       "    </tr>\n",
       "    <tr>\n",
       "      <th>0</th>\n",
       "      <td>Rooms</td>\n",
       "      <td>8.923850</td>\n",
       "    </tr>\n",
       "    <tr>\n",
       "      <th>4</th>\n",
       "      <td>Distance</td>\n",
       "      <td>12.042427</td>\n",
       "    </tr>\n",
       "  </tbody>\n",
       "</table>\n",
       "</div>"
      ],
      "text/plain": [
       "    columns        VIF\n",
       "3  Landsize   1.154244\n",
       "2       Car   4.018260\n",
       "1  Bathroom   5.653603\n",
       "5   Bedroom   7.277079\n",
       "0     Rooms   8.923850\n",
       "4  Distance  12.042427"
      ]
     },
     "execution_count": 31,
     "metadata": {},
     "output_type": "execute_result"
    }
   ],
   "source": [
    "from statsmodels.stats.outliers_influence import variance_inflation_factor\n",
    "\n",
    "Xx = house1.drop('Price', axis=1)\n",
    "\n",
    "lisT = []\n",
    "\n",
    "for i in range(Xx.shape[1]):\n",
    "    lisT.append(variance_inflation_factor(Xx.values, i))\n",
    "\n",
    "pd.DataFrame({'columns':Xx.columns, 'VIF':lisT}).sort_values(by='VIF')"
   ]
  },
  {
   "cell_type": "markdown",
   "metadata": {},
   "source": [
    "`We can see that, Distance is a feature which is having high VIF value; hence we declare that it has strong correlation with some other feature(s). The thing is now; we will remove this feature to make our model good. Even we have observed in sm_model_1 that Distance is not a good feature for the model making thou in feature elimination technique it was indeed removed as insignificant feature. `"
   ]
  },
  {
   "cell_type": "markdown",
   "metadata": {},
   "source": [
    "----------------------"
   ]
  },
  {
   "cell_type": "markdown",
   "metadata": {},
   "source": [
    "**4) AUTOCORRELATION:**"
   ]
  },
  {
   "cell_type": "markdown",
   "metadata": {},
   "source": [
    "#### Hypothsis:\n",
    "* H0: Residulas have no autocorrelation.\n",
    "* H1: We reject null hypothsis."
   ]
  },
  {
   "cell_type": "code",
   "execution_count": 32,
   "metadata": {},
   "outputs": [],
   "source": [
    "from statsmodels.stats.stattools import durbin_watson\n",
    "\n",
    "ACV = durbin_watson(sm_model.resid).round(1)"
   ]
  },
  {
   "cell_type": "code",
   "execution_count": 33,
   "metadata": {},
   "outputs": [],
   "source": [
    "from statsmodels.stats.stattools import durbin_watson\n",
    "\n",
    "ACV = durbin_watson(sm_model_sfs.resid).round(1)"
   ]
  },
  {
   "cell_type": "code",
   "execution_count": 34,
   "metadata": {},
   "outputs": [
    {
     "name": "stdout",
     "output_type": "stream",
     "text": [
      "TStat_value: 1.4\n",
      "\n",
      "We reject our null hypothesis. We claim that the data is not normal. It has the autocorrelations in residuals.\n"
     ]
    }
   ],
   "source": [
    "print('TStat_value:',ACV)\n",
    "print()\n",
    "if ACV <= 2.5 and ACV >= 1.5:\n",
    "    print('Data is normal and no autocorrelation in residuals.')\n",
    "else:\n",
    "    print('We reject our null hypothesis. We claim that the data is not normal. It has the autocorrelations in residuals.')"
   ]
  },
  {
   "cell_type": "markdown",
   "metadata": {},
   "source": [
    "**Here we observed a value 1.4. Before that, let me explain you the thumb rule for this test:**\n",
    "\n",
    "•\tIf test stats value is in range of (1.5-2.5), then we consider it to be normal. A value beyond this is a sign of Autocorrelation.\n",
    "\n",
    "•\tInference: If it is between this range of (1.5-2.5), we fail to reject null hypothesis.\n",
    "\n",
    "•\tIn the model (sm_model_sfs) we have a value of Durbin-Watson which is there what we obtained by the test. \n"
   ]
  },
  {
   "cell_type": "markdown",
   "metadata": {},
   "source": [
    "`Conclusion2:` Since this assumption is also not met for the data. And we face the autocorrelation in the data. Hence again we can say that, this would be the reason our model was not giving a good accuracy."
   ]
  },
  {
   "cell_type": "markdown",
   "metadata": {},
   "source": [
    "---------------------"
   ]
  },
  {
   "cell_type": "code",
   "execution_count": 35,
   "metadata": {
    "scrolled": false
   },
   "outputs": [
    {
     "name": "stderr",
     "output_type": "stream",
     "text": [
      "C:\\Users\\hi\\Anaconda3\\lib\\site-packages\\ipykernel_launcher.py:4: UserWarning: Matplotlib is currently using module://ipykernel.pylab.backend_inline, which is a non-GUI backend, so cannot show the figure.\n",
      "  after removing the cwd from sys.path.\n"
     ]
    },
    {
     "data": {
      "image/png": "[encoded data removed]",
      "text/plain": [
       "<Figure size 1080x720 with 1 Axes>"
      ]
     },
     "metadata": {
      "needs_background": "light"
     },
     "output_type": "display_data"
    }
   ],
   "source": [
    "import statsmodels.tsa.api as smt\n",
    "\n",
    "acf = smt.graphics.plot_acf(sm_model_sfs.resid, lags=31 , alpha=0.05)\n",
    "acf.show()"
   ]
  },
  {
   "cell_type": "markdown",
   "metadata": {},
   "source": [
    "-------------"
   ]
  },
  {
   "cell_type": "markdown",
   "metadata": {},
   "source": [
    "**5) Heteroskedasticity:**"
   ]
  },
  {
   "cell_type": "code",
   "execution_count": 36,
   "metadata": {
    "scrolled": false
   },
   "outputs": [
    {
     "name": "stdout",
     "output_type": "stream",
     "text": [
      "(3000, 6) (3000,)\n",
      "pvalue: 6.844772597163193e-72\n",
      "\n",
      "Data is suffering from heteroskedasticity and there is autocorrel of errors.\n"
     ]
    }
   ],
   "source": [
    "import statsmodels.stats.api as ssa\n",
    "\n",
    "predictors = house_train.drop('Price', axis =1 )\n",
    "print(predictors.shape, sm_model.resid.shape)\n",
    "\n",
    "teststats, pvalue, ftest, f_pvalue = ssa.het_breuschpagan(sm_model.resid, predictors) \n",
    "print('pvalue:',pvalue)\n",
    "print()\n",
    "if pvalue>0.05:\n",
    "    print('Data is not suffering from heteroskedasticity and there is no autocorrel of errors.')\n",
    "else:\n",
    "    print('Data is suffering from heteroskedasticity and there is autocorrel of errors.')"
   ]
  },
  {
   "cell_type": "code",
   "execution_count": 37,
   "metadata": {},
   "outputs": [
    {
     "data": {
      "image/png": "[encoded data removed]",
      "text/plain": [
       "<Figure size 1080x720 with 1 Axes>"
      ]
     },
     "metadata": {
      "needs_background": "light"
     },
     "output_type": "display_data"
    },
    {
     "name": "stdout",
     "output_type": "stream",
     "text": [
      "We just here fitted the LOWESS object to see the behaviour of the residuals.\n",
      "We see a little negative relation in actual with fitted values, which seems to be higher error.\n"
     ]
    }
   ],
   "source": [
    "import seaborn as sns ; import matplotlib.pyplot as plt\n",
    "\n",
    "plt.rcParams['figure.figsize'] = [15,10]\n",
    "\n",
    "res = sm_model_sfs.resid ; fit = sm_model_sfs.fittedvalues\n",
    "\n",
    "sns.residplot(fit, res, color='black', lowess=True)\n",
    "plt.xlabel('Actual') ; plt.ylabel('Predicted')\n",
    "plt.show()\n",
    "\n",
    "print('We just here fitted the LOWESS object to see the behaviour of the residuals.')\n",
    "print('We see a little negative relation in actual with fitted values, which seems to be higher error.')"
   ]
  },
  {
   "cell_type": "markdown",
   "metadata": {},
   "source": [
    "**Again we failed in this assumption, that our data is suffering from the heteroskedasticity. Even plot shows a huge funnel like shape to the residuals and fittings, which means data is quite scattered,**\n",
    "\n",
    "`Conclusion3:` Since our data is quite spread and has not equal variance at every instance (Non-Homoskedastic/Heteroskedastic) in nature, hence again we are inappropriate to use here a simple linear regression. \n"
   ]
  },
  {
   "cell_type": "markdown",
   "metadata": {},
   "source": [
    "---------------"
   ]
  },
  {
   "cell_type": "markdown",
   "metadata": {},
   "source": [
    "#### Out of 5 assumptions it did not meet 3 assumptions. Hence we conclude that, such data will not give us a good model with simple linear regression. That's why we were having 15-16% accuracy in our model. \n",
    "\n",
    "Refer: sfsmodel, sm_model_sfs"
   ]
  },
  {
   "cell_type": "markdown",
   "metadata": {},
   "source": [
    "--------------"
   ]
  },
  {
   "cell_type": "markdown",
   "metadata": {},
   "source": [
    "### What to do now?"
   ]
  },
  {
   "cell_type": "markdown",
   "metadata": {},
   "source": [
    "### 1) Let's go with Lasso and Ridge Regression:"
   ]
  },
  {
   "cell_type": "code",
   "execution_count": 38,
   "metadata": {},
   "outputs": [],
   "source": [
    "from sklearn.linear_model import LinearRegression, Ridge, Lasso"
   ]
  },
  {
   "cell_type": "code",
   "execution_count": 39,
   "metadata": {},
   "outputs": [],
   "source": [
    "x = house_test_data.drop(['Regionname','Type','Method'], axis=1)\n",
    "Y = house_test_data.Predicted_Price\n",
    "\n",
    "X1train, X1test, y1train, y1test = train_test_split(x,Y)\n",
    "\n",
    "lasso = Lasso(alpha=0.5, normalize=True)\n",
    "lasso_predicted = lasso.fit(X1train, y1train).predict(x)"
   ]
  },
  {
   "cell_type": "code",
   "execution_count": 40,
   "metadata": {
    "scrolled": true
   },
   "outputs": [],
   "source": [
    "house_test_data['Lasso_Predicted'] = lasso_predicted"
   ]
  },
  {
   "cell_type": "code",
   "execution_count": 41,
   "metadata": {
    "scrolled": true
   },
   "outputs": [
    {
     "data": {
      "text/html": [
       "<div>\n",
       "<style scoped>\n",
       "    .dataframe tbody tr th:only-of-type {\n",
       "        vertical-align: middle;\n",
       "    }\n",
       "\n",
       "    .dataframe tbody tr th {\n",
       "        vertical-align: top;\n",
       "    }\n",
       "\n",
       "    .dataframe thead th {\n",
       "        text-align: right;\n",
       "    }\n",
       "</style>\n",
       "<table border=\"1\" class=\"dataframe\">\n",
       "  <thead>\n",
       "    <tr style=\"text-align: right;\">\n",
       "      <th></th>\n",
       "      <th>Rooms</th>\n",
       "      <th>Type</th>\n",
       "      <th>Method</th>\n",
       "      <th>Regionname</th>\n",
       "      <th>Bathroom</th>\n",
       "      <th>Car</th>\n",
       "      <th>Landsize</th>\n",
       "      <th>Distance</th>\n",
       "      <th>Bedroom</th>\n",
       "      <th>Predicted_Price</th>\n",
       "      <th>Lasso_Predicted</th>\n",
       "    </tr>\n",
       "  </thead>\n",
       "  <tbody>\n",
       "    <tr>\n",
       "      <th>3000</th>\n",
       "      <td>4</td>\n",
       "      <td>h</td>\n",
       "      <td>S</td>\n",
       "      <td>Eastern Metropolitan</td>\n",
       "      <td>1</td>\n",
       "      <td>1</td>\n",
       "      <td>245</td>\n",
       "      <td>17.4</td>\n",
       "      <td>4</td>\n",
       "      <td>1.311961e+06</td>\n",
       "      <td>1.311926e+06</td>\n",
       "    </tr>\n",
       "    <tr>\n",
       "      <th>3001</th>\n",
       "      <td>4</td>\n",
       "      <td>h</td>\n",
       "      <td>S</td>\n",
       "      <td>Southern Metropolitan</td>\n",
       "      <td>1</td>\n",
       "      <td>2</td>\n",
       "      <td>590</td>\n",
       "      <td>21.4</td>\n",
       "      <td>1</td>\n",
       "      <td>1.309370e+06</td>\n",
       "      <td>1.309346e+06</td>\n",
       "    </tr>\n",
       "    <tr>\n",
       "      <th>3002</th>\n",
       "      <td>2</td>\n",
       "      <td>u</td>\n",
       "      <td>S</td>\n",
       "      <td>Southern Metropolitan</td>\n",
       "      <td>2</td>\n",
       "      <td>2</td>\n",
       "      <td>602</td>\n",
       "      <td>20.9</td>\n",
       "      <td>2</td>\n",
       "      <td>7.248364e+05</td>\n",
       "      <td>7.248743e+05</td>\n",
       "    </tr>\n",
       "    <tr>\n",
       "      <th>3003</th>\n",
       "      <td>3</td>\n",
       "      <td>t</td>\n",
       "      <td>S</td>\n",
       "      <td>Southern Metropolitan</td>\n",
       "      <td>1</td>\n",
       "      <td>1</td>\n",
       "      <td>172</td>\n",
       "      <td>18.6</td>\n",
       "      <td>2</td>\n",
       "      <td>1.027568e+06</td>\n",
       "      <td>1.027549e+06</td>\n",
       "    </tr>\n",
       "    <tr>\n",
       "      <th>3004</th>\n",
       "      <td>2</td>\n",
       "      <td>h</td>\n",
       "      <td>S</td>\n",
       "      <td>Southern Metropolitan</td>\n",
       "      <td>1</td>\n",
       "      <td>2</td>\n",
       "      <td>258</td>\n",
       "      <td>25.3</td>\n",
       "      <td>3</td>\n",
       "      <td>7.419804e+05</td>\n",
       "      <td>7.419832e+05</td>\n",
       "    </tr>\n",
       "  </tbody>\n",
       "</table>\n",
       "</div>"
      ],
      "text/plain": [
       "      Rooms Type Method             Regionname  Bathroom  Car  Landsize  \\\n",
       "3000      4    h      S   Eastern Metropolitan         1    1       245   \n",
       "3001      4    h      S  Southern Metropolitan         1    2       590   \n",
       "3002      2    u      S  Southern Metropolitan         2    2       602   \n",
       "3003      3    t      S  Southern Metropolitan         1    1       172   \n",
       "3004      2    h      S  Southern Metropolitan         1    2       258   \n",
       "\n",
       "      Distance  Bedroom  Predicted_Price  Lasso_Predicted  \n",
       "3000      17.4        4     1.311961e+06     1.311926e+06  \n",
       "3001      21.4        1     1.309370e+06     1.309346e+06  \n",
       "3002      20.9        2     7.248364e+05     7.248743e+05  \n",
       "3003      18.6        2     1.027568e+06     1.027549e+06  \n",
       "3004      25.3        3     7.419804e+05     7.419832e+05  "
      ]
     },
     "execution_count": 41,
     "metadata": {},
     "output_type": "execute_result"
    }
   ],
   "source": [
    "house_test_data.head()"
   ]
  },
  {
   "cell_type": "code",
   "execution_count": 42,
   "metadata": {
    "scrolled": true
   },
   "outputs": [
    {
     "data": {
      "image/png": "[encoded data removed]",
      "text/plain": [
       "<Figure size 1080x360 with 2 Axes>"
      ]
     },
     "metadata": {
      "needs_background": "light"
     },
     "output_type": "display_data"
    }
   ],
   "source": [
    "fig, axes = plt.subplots(1,2, sharey=True, figsize=(15,5))\n",
    "house_test_data.Predicted_Price[0:30].plot(kind='bar', color='gold', ax=axes[0], title='OLS')\n",
    "house_test_data.Lasso_Predicted[0:30].plot(kind='bar', color='black', ax=axes[1], title='Lasso')\n",
    "plt.show()"
   ]
  },
  {
   "cell_type": "markdown",
   "metadata": {},
   "source": [
    "### Error Terms:"
   ]
  },
  {
   "cell_type": "code",
   "execution_count": 43,
   "metadata": {
    "scrolled": true
   },
   "outputs": [
    {
     "name": "stdout",
     "output_type": "stream",
     "text": [
      "RMSE for OLS model = 550175.9084392181\n",
      "RMSE for LASSO model = 550174.0407873997\n"
     ]
    }
   ],
   "source": [
    "import numpy as np\n",
    "from sklearn.metrics import mean_absolute_error, mean_squared_error\n",
    "RMSE1 = np.sqrt(mean_squared_error(house_test.Price, house_test_data.Predicted_Price))\n",
    "RMSE2 = np.sqrt(mean_squared_error(house_test.Price, house_test_data['Lasso_Predicted']))\n",
    "print('RMSE for OLS model =',RMSE1)\n",
    "print('RMSE for LASSO model =',RMSE2)"
   ]
  },
  {
   "cell_type": "markdown",
   "metadata": {},
   "source": [
    "We observe approximately the same error in both the model.\n",
    "\n",
    "Let's approach to the next model."
   ]
  },
  {
   "cell_type": "markdown",
   "metadata": {},
   "source": [
    "### Ridge:"
   ]
  },
  {
   "cell_type": "code",
   "execution_count": 44,
   "metadata": {},
   "outputs": [],
   "source": [
    "ridge = Ridge(alpha=0.5, normalize=True)\n",
    "ridge_predicted = ridge.fit(X1train, y1train).predict(x)"
   ]
  },
  {
   "cell_type": "code",
   "execution_count": 45,
   "metadata": {},
   "outputs": [],
   "source": [
    "house_test_data['Ridge_Predicted'] = ridge_predicted"
   ]
  },
  {
   "cell_type": "code",
   "execution_count": 46,
   "metadata": {
    "scrolled": false
   },
   "outputs": [
    {
     "data": {
      "image/png": "[encoded data removed]",
      "text/plain": [
       "<Figure size 1080x360 with 3 Axes>"
      ]
     },
     "metadata": {
      "needs_background": "light"
     },
     "output_type": "display_data"
    }
   ],
   "source": [
    "fig, axes = plt.subplots(1,3, sharey=True, figsize=(15,5))\n",
    "house_test_data.Predicted_Price[0:25].plot(kind='bar', color='gold', ax=axes[0], title='OLS')\n",
    "house_test_data.Lasso_Predicted[0:25].plot(kind='bar', color='black', ax=axes[1], title='Lasso')\n",
    "house_test_data.Ridge_Predicted[0:25].plot(kind='bar', color='red', ax=axes[2], title='Ridge')\n",
    "plt.show()"
   ]
  },
  {
   "cell_type": "code",
   "execution_count": 47,
   "metadata": {},
   "outputs": [
    {
     "name": "stdout",
     "output_type": "stream",
     "text": [
      "RMSE for OLS model = 550175.9084392181\n",
      "RMSE for RIDGE model = 549239.3830438689\n"
     ]
    }
   ],
   "source": [
    "import numpy as np\n",
    "RMSE1 = np.sqrt(mean_squared_error(house_test.Price, house_test_data.Predicted_Price))\n",
    "RMSE3 = np.sqrt(mean_squared_error(house_test.Price, house_test_data['Ridge_Predicted']))\n",
    "print('RMSE for OLS model =',RMSE1)\n",
    "print('RMSE for RIDGE model =',RMSE3)"
   ]
  },
  {
   "cell_type": "markdown",
   "metadata": {},
   "source": [
    "We observed a good difference in L2 Regularization than that of OLS and Norm.\n",
    "\n",
    "We can approach to this model, but for the sake of accuracy we would approach to the some another models."
   ]
  },
  {
   "cell_type": "markdown",
   "metadata": {},
   "source": [
    "### BaggingRegression:"
   ]
  },
  {
   "cell_type": "code",
   "execution_count": 48,
   "metadata": {},
   "outputs": [],
   "source": [
    "house_test_data1 = house_test_data[['Rooms','Bathroom','Car','Landsize','Distance','Bedroom','Predicted_Price']]"
   ]
  },
  {
   "cell_type": "code",
   "execution_count": 49,
   "metadata": {},
   "outputs": [],
   "source": [
    "from sklearn.ensemble import BaggingRegressor\n",
    "Bagg = BaggingRegressor()\n",
    "\n",
    "x1 = house_test_data1.drop('Predicted_Price', axis=1)\n",
    "y1 = house_test_data1.Predicted_Price\n",
    "\n",
    "bagg_predicted = Bagg.fit(x1,y1).predict(x1)"
   ]
  },
  {
   "cell_type": "code",
   "execution_count": 50,
   "metadata": {},
   "outputs": [],
   "source": [
    "house_test_data['Bagg_Predicted'] = bagg_predicted"
   ]
  },
  {
   "cell_type": "code",
   "execution_count": 51,
   "metadata": {
    "scrolled": true
   },
   "outputs": [
    {
     "data": {
      "image/png": "[encoded data removed]",
      "text/plain": [
       "<Figure size 1080x360 with 4 Axes>"
      ]
     },
     "metadata": {
      "needs_background": "light"
     },
     "output_type": "display_data"
    }
   ],
   "source": [
    "fig, axes = plt.subplots(1,4, sharey=True, figsize=(15,5))\n",
    "house_test_data.Predicted_Price[0:20].plot(kind='bar', color='gold', ax=axes[0])\n",
    "house_test_data.Lasso_Predicted[0:20].plot(kind='bar', color='black', ax=axes[1])\n",
    "house_test_data.Ridge_Predicted[0:20].plot(kind='bar', color='red', ax=axes[2])\n",
    "house_test_data.Bagg_Predicted[0:20].plot(kind='bar', color='gray', ax=axes[3])\n",
    "plt.show()"
   ]
  },
  {
   "cell_type": "markdown",
   "metadata": {},
   "source": [
    "----------------------"
   ]
  },
  {
   "cell_type": "markdown",
   "metadata": {},
   "source": [
    "### Elastic Net:"
   ]
  },
  {
   "cell_type": "code",
   "execution_count": 52,
   "metadata": {},
   "outputs": [],
   "source": [
    "from sklearn.linear_model import ElasticNet"
   ]
  },
  {
   "cell_type": "code",
   "execution_count": 53,
   "metadata": {},
   "outputs": [],
   "source": [
    "net_model = ElasticNet(alpha=0.1, l1_ratio=0.5).fit(x1,y1)\n",
    "house_test_data['EN_Predicted'] = net_model.predict(x1)"
   ]
  },
  {
   "cell_type": "code",
   "execution_count": 54,
   "metadata": {
    "scrolled": true
   },
   "outputs": [
    {
     "data": {
      "image/png": "[encoded data removed]",
      "text/plain": [
       "<Figure size 1080x360 with 2 Axes>"
      ]
     },
     "metadata": {
      "needs_background": "light"
     },
     "output_type": "display_data"
    }
   ],
   "source": [
    "fig, axes = plt.subplots(1,2, sharey=True, figsize=(15,5))\n",
    "house_test_data.Predicted_Price[0:40].plot(kind='bar', color='gold', ax=axes[0],title='OLS')\n",
    "house_test_data.EN_Predicted[0:40].plot(kind='bar', color='gray', ax=axes[1], title='Elastic Net')\n",
    "plt.show()"
   ]
  },
  {
   "cell_type": "code",
   "execution_count": 55,
   "metadata": {},
   "outputs": [
    {
     "name": "stdout",
     "output_type": "stream",
     "text": [
      "RMSE for OLS model = 550175.9084392181\n",
      "RMSE for Elastic-Net model = 549349.9330354722\n"
     ]
    }
   ],
   "source": [
    "import numpy as np\n",
    "RMSE1 = np.sqrt(mean_squared_error(house_test.Price, house_test_data.Predicted_Price))\n",
    "RMSE4 = np.sqrt(mean_squared_error(house_test.Price, house_test_data.EN_Predicted))\n",
    "print('RMSE for OLS model =',RMSE1)\n",
    "print('RMSE for Elastic-Net model =',RMSE4)"
   ]
  },
  {
   "cell_type": "code",
   "execution_count": 56,
   "metadata": {},
   "outputs": [
    {
     "data": {
      "text/plain": [
       "True"
      ]
     },
     "execution_count": 56,
     "metadata": {},
     "output_type": "execute_result"
    }
   ],
   "source": [
    "RMSE4 > RMSE3"
   ]
  },
  {
   "cell_type": "markdown",
   "metadata": {},
   "source": [
    "Here we see the little same error rate in L2 Regularization and Elastic-Net, but still L2 gives a better accuracy. Still our eyes are on Ridge."
   ]
  },
  {
   "cell_type": "markdown",
   "metadata": {},
   "source": [
    "-----------------"
   ]
  },
  {
   "cell_type": "code",
   "execution_count": 57,
   "metadata": {
    "scrolled": true
   },
   "outputs": [
    {
     "data": {
      "image/png": "[encoded data removed]",
      "text/plain": [
       "<Figure size 1080x360 with 2 Axes>"
      ]
     },
     "metadata": {
      "needs_background": "light"
     },
     "output_type": "display_data"
    }
   ],
   "source": [
    "fig, axes = plt.subplots(1,2, sharey=True, figsize=(15,5))\n",
    "house_test_data.Predicted_Price[29:31].plot(kind='bar', color='gold', ax=axes[0], title='OLS')\n",
    "house_test_data.Ridge_Predicted[29:31].plot(kind='bar', color='gray', ax=axes[1], title='Ridge')\n",
    "plt.show()"
   ]
  },
  {
   "cell_type": "markdown",
   "metadata": {},
   "source": [
    "`3029` and `3030` seems to be highest values."
   ]
  },
  {
   "cell_type": "markdown",
   "metadata": {},
   "source": [
    "`Elastic Net deals with the higher error. We see that, longer error values are managed.`"
   ]
  },
  {
   "cell_type": "markdown",
   "metadata": {},
   "source": [
    "--------------------------"
   ]
  },
  {
   "cell_type": "markdown",
   "metadata": {},
   "source": [
    "### Let's check the accuracy of the models:"
   ]
  },
  {
   "cell_type": "code",
   "execution_count": 58,
   "metadata": {},
   "outputs": [
    {
     "data": {
      "text/html": [
       "<div>\n",
       "<style scoped>\n",
       "    .dataframe tbody tr th:only-of-type {\n",
       "        vertical-align: middle;\n",
       "    }\n",
       "\n",
       "    .dataframe tbody tr th {\n",
       "        vertical-align: top;\n",
       "    }\n",
       "\n",
       "    .dataframe thead th {\n",
       "        text-align: right;\n",
       "    }\n",
       "</style>\n",
       "<table border=\"1\" class=\"dataframe\">\n",
       "  <thead>\n",
       "    <tr style=\"text-align: right;\">\n",
       "      <th></th>\n",
       "      <th>Predicted_Price</th>\n",
       "      <th>Lasso_Predicted</th>\n",
       "      <th>Ridge_Predicted</th>\n",
       "      <th>Bagg_Predicted</th>\n",
       "      <th>EN_Predicted</th>\n",
       "      <th>Actual_Price</th>\n",
       "    </tr>\n",
       "  </thead>\n",
       "  <tbody>\n",
       "    <tr>\n",
       "      <th>3000</th>\n",
       "      <td>1.311961e+06</td>\n",
       "      <td>1.311926e+06</td>\n",
       "      <td>1.259817e+06</td>\n",
       "      <td>1.311971e+06</td>\n",
       "      <td>1.297189e+06</td>\n",
       "      <td>880000</td>\n",
       "    </tr>\n",
       "    <tr>\n",
       "      <th>3001</th>\n",
       "      <td>1.309370e+06</td>\n",
       "      <td>1.309346e+06</td>\n",
       "      <td>1.254953e+06</td>\n",
       "      <td>1.309364e+06</td>\n",
       "      <td>1.294557e+06</td>\n",
       "      <td>2905000</td>\n",
       "    </tr>\n",
       "    <tr>\n",
       "      <th>3002</th>\n",
       "      <td>7.248364e+05</td>\n",
       "      <td>7.248743e+05</td>\n",
       "      <td>7.894938e+05</td>\n",
       "      <td>7.248589e+05</td>\n",
       "      <td>7.420537e+05</td>\n",
       "      <td>1300000</td>\n",
       "    </tr>\n",
       "    <tr>\n",
       "      <th>3003</th>\n",
       "      <td>1.027568e+06</td>\n",
       "      <td>1.027549e+06</td>\n",
       "      <td>1.029479e+06</td>\n",
       "      <td>1.027585e+06</td>\n",
       "      <td>1.027849e+06</td>\n",
       "      <td>1302500</td>\n",
       "    </tr>\n",
       "    <tr>\n",
       "      <th>3004</th>\n",
       "      <td>7.419804e+05</td>\n",
       "      <td>7.419832e+05</td>\n",
       "      <td>8.042369e+05</td>\n",
       "      <td>7.419782e+05</td>\n",
       "      <td>7.580661e+05</td>\n",
       "      <td>1445000</td>\n",
       "    </tr>\n",
       "  </tbody>\n",
       "</table>\n",
       "</div>"
      ],
      "text/plain": [
       "      Predicted_Price  Lasso_Predicted  Ridge_Predicted  Bagg_Predicted  \\\n",
       "3000     1.311961e+06     1.311926e+06     1.259817e+06    1.311971e+06   \n",
       "3001     1.309370e+06     1.309346e+06     1.254953e+06    1.309364e+06   \n",
       "3002     7.248364e+05     7.248743e+05     7.894938e+05    7.248589e+05   \n",
       "3003     1.027568e+06     1.027549e+06     1.029479e+06    1.027585e+06   \n",
       "3004     7.419804e+05     7.419832e+05     8.042369e+05    7.419782e+05   \n",
       "\n",
       "      EN_Predicted  Actual_Price  \n",
       "3000  1.297189e+06        880000  \n",
       "3001  1.294557e+06       2905000  \n",
       "3002  7.420537e+05       1300000  \n",
       "3003  1.027849e+06       1302500  \n",
       "3004  7.580661e+05       1445000  "
      ]
     },
     "execution_count": 58,
     "metadata": {},
     "output_type": "execute_result"
    }
   ],
   "source": [
    "house_test_data['Actual_Price'] = house_test.Price\n",
    "predicted_data= house_test_data[['Predicted_Price', 'Lasso_Predicted',\n",
    "       'Ridge_Predicted', 'Bagg_Predicted', 'EN_Predicted', 'Actual_Price']]\n",
    "\n",
    "predicted_data.head()"
   ]
  },
  {
   "cell_type": "markdown",
   "metadata": {},
   "source": [
    "`Just by the glance we see that Ridge and Elastic-Net is giving a little bit good prediction values.`"
   ]
  },
  {
   "cell_type": "markdown",
   "metadata": {},
   "source": [
    "---------------"
   ]
  },
  {
   "cell_type": "code",
   "execution_count": 59,
   "metadata": {
    "scrolled": true
   },
   "outputs": [
    {
     "data": {
      "text/plain": [
       "(1766, 7)"
      ]
     },
     "execution_count": 59,
     "metadata": {},
     "output_type": "execute_result"
    }
   ],
   "source": [
    "house_test.shape"
   ]
  },
  {
   "cell_type": "code",
   "execution_count": 60,
   "metadata": {
    "scrolled": true
   },
   "outputs": [
    {
     "data": {
      "text/plain": [
       "(1766, 15)"
      ]
     },
     "execution_count": 60,
     "metadata": {},
     "output_type": "execute_result"
    }
   ],
   "source": [
    "house_test_data.shape"
   ]
  },
  {
   "cell_type": "code",
   "execution_count": 61,
   "metadata": {
    "scrolled": true
   },
   "outputs": [
    {
     "data": {
      "image/png": "[encoded data removed]",
      "text/plain": [
       "<Figure size 720x1080 with 3 Axes>"
      ]
     },
     "metadata": {
      "needs_background": "light"
     },
     "output_type": "display_data"
    }
   ],
   "source": [
    "fig, axes = plt.subplots(3,1,sharex=True, figsize=(10,15))\n",
    "(house_test_data.Predicted_Price - house_test.Price).plot(kind='bar', ax=axes[0], title='OLS')\n",
    "(house_test_data.EN_Predicted - house_test.Price).plot(kind='bar', color='black', ax=axes[1], title='Elastic-Net')\n",
    "(house_test_data.Ridge_Predicted - house_test.Price).plot(kind='bar', color='green', ax=axes[2], title='Ridge')\n",
    "plt.show()"
   ]
  },
  {
   "cell_type": "markdown",
   "metadata": {},
   "source": [
    "### We see here the respective errors in our predicted values. Higher the values (Error) are managed to do a good prediction.\n",
    "\n",
    "### We see the similar values for each plot, but our error estimation has differentiated into the models.\n",
    "\n",
    "### Still we see, the similar plots all over. According to the error estimation analysis (RMS-Calculation) we have observed the change, but by looking to the plots, we can conclude that, the errors are minorly balanced."
   ]
  },
  {
   "cell_type": "markdown",
   "metadata": {},
   "source": [
    "-----------------"
   ]
  },
  {
   "cell_type": "markdown",
   "metadata": {},
   "source": [
    "### Let's differentiat the error values:\n",
    "**How we are affected by different models.**"
   ]
  },
  {
   "cell_type": "code",
   "execution_count": 62,
   "metadata": {},
   "outputs": [],
   "source": [
    "from sklearn.metrics import mean_absolute_error, mean_squared_error, r2_score"
   ]
  },
  {
   "cell_type": "code",
   "execution_count": 63,
   "metadata": {},
   "outputs": [],
   "source": [
    "import numpy as np\n",
    "RMSE = []\n",
    "RMSE.append(np.sqrt(mean_squared_error(house_test.Price, house_test_data.Predicted_Price)))\n",
    "RMSE.append(np.sqrt(mean_squared_error(house_test.Price, house_test_data.Lasso_Predicted)))\n",
    "RMSE.append(np.sqrt(mean_squared_error(house_test.Price, house_test_data.Ridge_Predicted)))\n",
    "RMSE.append(np.sqrt(mean_squared_error(house_test.Price, house_test_data.Bagg_Predicted)))\n",
    "RMSE.append(np.sqrt(mean_squared_error(house_test.Price, house_test_data.EN_Predicted)))"
   ]
  },
  {
   "cell_type": "code",
   "execution_count": 64,
   "metadata": {},
   "outputs": [
    {
     "data": {
      "text/html": [
       "<div>\n",
       "<style scoped>\n",
       "    .dataframe tbody tr th:only-of-type {\n",
       "        vertical-align: middle;\n",
       "    }\n",
       "\n",
       "    .dataframe tbody tr th {\n",
       "        vertical-align: top;\n",
       "    }\n",
       "\n",
       "    .dataframe thead th {\n",
       "        text-align: right;\n",
       "    }\n",
       "</style>\n",
       "<table border=\"1\" class=\"dataframe\">\n",
       "  <thead>\n",
       "    <tr style=\"text-align: right;\">\n",
       "      <th></th>\n",
       "      <th>Models</th>\n",
       "      <th>RMSE</th>\n",
       "    </tr>\n",
       "  </thead>\n",
       "  <tbody>\n",
       "    <tr>\n",
       "      <th>0</th>\n",
       "      <td>OLS</td>\n",
       "      <td>550175.908439</td>\n",
       "    </tr>\n",
       "    <tr>\n",
       "      <th>1</th>\n",
       "      <td>Lasso</td>\n",
       "      <td>550174.040787</td>\n",
       "    </tr>\n",
       "    <tr>\n",
       "      <th>3</th>\n",
       "      <td>Bagg</td>\n",
       "      <td>550153.299027</td>\n",
       "    </tr>\n",
       "    <tr>\n",
       "      <th>4</th>\n",
       "      <td>EN</td>\n",
       "      <td>549349.933035</td>\n",
       "    </tr>\n",
       "    <tr>\n",
       "      <th>2</th>\n",
       "      <td>Ridge</td>\n",
       "      <td>549239.383044</td>\n",
       "    </tr>\n",
       "  </tbody>\n",
       "</table>\n",
       "</div>"
      ],
      "text/plain": [
       "  Models           RMSE\n",
       "0    OLS  550175.908439\n",
       "1  Lasso  550174.040787\n",
       "3   Bagg  550153.299027\n",
       "4     EN  549349.933035\n",
       "2  Ridge  549239.383044"
      ]
     },
     "execution_count": 64,
     "metadata": {},
     "output_type": "execute_result"
    }
   ],
   "source": [
    "pd.DataFrame({'Models':['OLS','Lasso','Ridge','Bagg','EN'], 'RMSE':RMSE}).sort_values(by='RMSE', ascending=False)"
   ]
  },
  {
   "cell_type": "markdown",
   "metadata": {},
   "source": [
    "`Final Conclusion:`\n",
    "### Hence we conclude that, Ridge is giving quite good prediction other than that of all models."
   ]
  },
  {
   "cell_type": "markdown",
   "metadata": {},
   "source": [
    "--------------"
   ]
  },
  {
   "cell_type": "markdown",
   "metadata": {},
   "source": [
    "#### Question: Which model do we prefer to predict the house prices?\n",
    "\n",
    "According to `Occam's Razor` says, **Simplest models give the good accuracy**.\n",
    "\n",
    "Hence we will see the low `RMSE` which will go to `less complexity` in the model which gives appropraite values.\n",
    "\n",
    "Here we prefer `Elastic Net model` or `Ridge model` as our simplest and good model for prediction. "
   ]
  },
  {
   "cell_type": "markdown",
   "metadata": {},
   "source": [
    "-----------------------"
   ]
  },
  {
   "cell_type": "markdown",
   "metadata": {},
   "source": [
    "-------------------------"
   ]
  },
  {
   "cell_type": "markdown",
   "metadata": {},
   "source": [
    "# Model building with Feature Engineering"
   ]
  },
  {
   "cell_type": "markdown",
   "metadata": {},
   "source": [
    "`Feature Engineering`"
   ]
  },
  {
   "cell_type": "markdown",
   "metadata": {},
   "source": [
    "------------------------------------------------------------"
   ]
  },
  {
   "cell_type": "markdown",
   "metadata": {},
   "source": [
    "### Will we get any benifit using encoding technique, to get more parameters?"
   ]
  },
  {
   "cell_type": "code",
   "execution_count": 65,
   "metadata": {},
   "outputs": [
    {
     "data": {
      "text/plain": [
       "Index(['Rooms', 'Type', 'Price', 'Method', 'Regionname', 'Bathroom', 'Car',\n",
       "       'Landsize', 'Distance', 'Bedroom'],\n",
       "      dtype='object')"
      ]
     },
     "execution_count": 65,
     "metadata": {},
     "output_type": "execute_result"
    }
   ],
   "source": [
    "house.columns"
   ]
  },
  {
   "cell_type": "code",
   "execution_count": 66,
   "metadata": {},
   "outputs": [],
   "source": [
    "house2 = house.copy()\n",
    "\n",
    "house2 = house2[['Rooms', 'Type', 'Price', 'Bathroom', 'Car',\n",
    "       'Landsize', 'Distance', 'Bedroom']]\n",
    "\n",
    "house2 = house2.iloc[:3000,:]"
   ]
  },
  {
   "cell_type": "code",
   "execution_count": 67,
   "metadata": {},
   "outputs": [
    {
     "data": {
      "text/html": [
       "<div>\n",
       "<style scoped>\n",
       "    .dataframe tbody tr th:only-of-type {\n",
       "        vertical-align: middle;\n",
       "    }\n",
       "\n",
       "    .dataframe tbody tr th {\n",
       "        vertical-align: top;\n",
       "    }\n",
       "\n",
       "    .dataframe thead th {\n",
       "        text-align: right;\n",
       "    }\n",
       "</style>\n",
       "<table border=\"1\" class=\"dataframe\">\n",
       "  <thead>\n",
       "    <tr style=\"text-align: right;\">\n",
       "      <th></th>\n",
       "      <th>Rooms</th>\n",
       "      <th>Price</th>\n",
       "      <th>Bathroom</th>\n",
       "      <th>Car</th>\n",
       "      <th>Landsize</th>\n",
       "      <th>Distance</th>\n",
       "      <th>Bedroom</th>\n",
       "      <th>Type_t</th>\n",
       "      <th>Type_u</th>\n",
       "    </tr>\n",
       "  </thead>\n",
       "  <tbody>\n",
       "    <tr>\n",
       "      <th>0</th>\n",
       "      <td>3</td>\n",
       "      <td>1490000</td>\n",
       "      <td>1</td>\n",
       "      <td>1</td>\n",
       "      <td>126</td>\n",
       "      <td>25.2</td>\n",
       "      <td>2</td>\n",
       "      <td>0</td>\n",
       "      <td>0</td>\n",
       "    </tr>\n",
       "    <tr>\n",
       "      <th>1</th>\n",
       "      <td>3</td>\n",
       "      <td>1220000</td>\n",
       "      <td>1</td>\n",
       "      <td>1</td>\n",
       "      <td>202</td>\n",
       "      <td>21.8</td>\n",
       "      <td>2</td>\n",
       "      <td>0</td>\n",
       "      <td>0</td>\n",
       "    </tr>\n",
       "    <tr>\n",
       "      <th>2</th>\n",
       "      <td>3</td>\n",
       "      <td>1420000</td>\n",
       "      <td>1</td>\n",
       "      <td>0</td>\n",
       "      <td>156</td>\n",
       "      <td>21.7</td>\n",
       "      <td>2</td>\n",
       "      <td>0</td>\n",
       "      <td>0</td>\n",
       "    </tr>\n",
       "    <tr>\n",
       "      <th>3</th>\n",
       "      <td>3</td>\n",
       "      <td>1515000</td>\n",
       "      <td>2</td>\n",
       "      <td>1</td>\n",
       "      <td>0</td>\n",
       "      <td>18.8</td>\n",
       "      <td>3</td>\n",
       "      <td>0</td>\n",
       "      <td>0</td>\n",
       "    </tr>\n",
       "    <tr>\n",
       "      <th>4</th>\n",
       "      <td>2</td>\n",
       "      <td>670000</td>\n",
       "      <td>2</td>\n",
       "      <td>0</td>\n",
       "      <td>134</td>\n",
       "      <td>20.6</td>\n",
       "      <td>3</td>\n",
       "      <td>0</td>\n",
       "      <td>0</td>\n",
       "    </tr>\n",
       "  </tbody>\n",
       "</table>\n",
       "</div>"
      ],
      "text/plain": [
       "   Rooms    Price  Bathroom  Car  Landsize  Distance  Bedroom  Type_t  Type_u\n",
       "0      3  1490000         1    1       126      25.2        2       0       0\n",
       "1      3  1220000         1    1       202      21.8        2       0       0\n",
       "2      3  1420000         1    0       156      21.7        2       0       0\n",
       "3      3  1515000         2    1         0      18.8        3       0       0\n",
       "4      2   670000         2    0       134      20.6        3       0       0"
      ]
     },
     "execution_count": 67,
     "metadata": {},
     "output_type": "execute_result"
    }
   ],
   "source": [
    "house2 = pd.get_dummies(data=house2, columns=['Type'], drop_first = True)\n",
    "house2.head()"
   ]
  },
  {
   "cell_type": "code",
   "execution_count": 68,
   "metadata": {},
   "outputs": [
    {
     "data": {
      "text/plain": [
       "Index(['Rooms', 'Price', 'Bathroom', 'Car', 'Landsize', 'Distance', 'Bedroom',\n",
       "       'Type_t', 'Type_u'],\n",
       "      dtype='object')"
      ]
     },
     "execution_count": 68,
     "metadata": {},
     "output_type": "execute_result"
    }
   ],
   "source": [
    "house2.columns"
   ]
  },
  {
   "cell_type": "code",
   "execution_count": 69,
   "metadata": {},
   "outputs": [
    {
     "data": {
      "text/html": [
       "<table class=\"simpletable\">\n",
       "<caption>OLS Regression Results</caption>\n",
       "<tr>\n",
       "  <th>Dep. Variable:</th>          <td>Price</td>      <th>  R-squared:         </th> <td>   0.181</td> \n",
       "</tr>\n",
       "<tr>\n",
       "  <th>Model:</th>                   <td>OLS</td>       <th>  Adj. R-squared:    </th> <td>   0.179</td> \n",
       "</tr>\n",
       "<tr>\n",
       "  <th>Method:</th>             <td>Least Squares</td>  <th>  F-statistic:       </th> <td>   82.49</td> \n",
       "</tr>\n",
       "<tr>\n",
       "  <th>Date:</th>             <td>Sun, 07 Feb 2021</td> <th>  Prob (F-statistic):</th> <td>1.08e-123</td>\n",
       "</tr>\n",
       "<tr>\n",
       "  <th>Time:</th>                 <td>23:37:12</td>     <th>  Log-Likelihood:    </th> <td> -44108.</td> \n",
       "</tr>\n",
       "<tr>\n",
       "  <th>No. Observations:</th>      <td>  3000</td>      <th>  AIC:               </th> <td>8.823e+04</td>\n",
       "</tr>\n",
       "<tr>\n",
       "  <th>Df Residuals:</th>          <td>  2991</td>      <th>  BIC:               </th> <td>8.829e+04</td>\n",
       "</tr>\n",
       "<tr>\n",
       "  <th>Df Model:</th>              <td>     8</td>      <th>                     </th>     <td> </td>    \n",
       "</tr>\n",
       "<tr>\n",
       "  <th>Covariance Type:</th>      <td>nonrobust</td>    <th>                     </th>     <td> </td>    \n",
       "</tr>\n",
       "</table>\n",
       "<table class=\"simpletable\">\n",
       "<tr>\n",
       "      <td></td>         <th>coef</th>     <th>std err</th>      <th>t</th>      <th>P>|t|</th>  <th>[0.025</th>    <th>0.975]</th>  \n",
       "</tr>\n",
       "<tr>\n",
       "  <th>Intercept</th> <td> 4.226e+05</td> <td> 7.97e+04</td> <td>    5.306</td> <td> 0.000</td> <td> 2.66e+05</td> <td> 5.79e+05</td>\n",
       "</tr>\n",
       "<tr>\n",
       "  <th>Rooms</th>     <td> 2.393e+05</td> <td> 1.38e+04</td> <td>   17.326</td> <td> 0.000</td> <td> 2.12e+05</td> <td> 2.66e+05</td>\n",
       "</tr>\n",
       "<tr>\n",
       "  <th>Bathroom</th>  <td>-1.167e+04</td> <td> 1.47e+04</td> <td>   -0.796</td> <td> 0.426</td> <td>-4.04e+04</td> <td> 1.71e+04</td>\n",
       "</tr>\n",
       "<tr>\n",
       "  <th>Car</th>       <td>-1.054e+04</td> <td> 1.25e+04</td> <td>   -0.845</td> <td> 0.398</td> <td> -3.5e+04</td> <td> 1.39e+04</td>\n",
       "</tr>\n",
       "<tr>\n",
       "  <th>Landsize</th>  <td>   -7.7142</td> <td>    7.419</td> <td>   -1.040</td> <td> 0.298</td> <td>  -22.260</td> <td>    6.832</td>\n",
       "</tr>\n",
       "<tr>\n",
       "  <th>Distance</th>  <td> -576.9496</td> <td> 2541.609</td> <td>   -0.227</td> <td> 0.820</td> <td>-5560.428</td> <td> 4406.529</td>\n",
       "</tr>\n",
       "<tr>\n",
       "  <th>Bedroom</th>   <td>-7250.2919</td> <td> 9760.493</td> <td>   -0.743</td> <td> 0.458</td> <td>-2.64e+04</td> <td> 1.19e+04</td>\n",
       "</tr>\n",
       "<tr>\n",
       "  <th>Type_t</th>    <td>-1.184e+05</td> <td> 3.69e+04</td> <td>   -3.212</td> <td> 0.001</td> <td>-1.91e+05</td> <td>-4.61e+04</td>\n",
       "</tr>\n",
       "<tr>\n",
       "  <th>Type_u</th>    <td>-1.924e+05</td> <td> 3.35e+04</td> <td>   -5.746</td> <td> 0.000</td> <td>-2.58e+05</td> <td>-1.27e+05</td>\n",
       "</tr>\n",
       "</table>\n",
       "<table class=\"simpletable\">\n",
       "<tr>\n",
       "  <th>Omnibus:</th>       <td>1563.077</td> <th>  Durbin-Watson:     </th> <td>   1.377</td> \n",
       "</tr>\n",
       "<tr>\n",
       "  <th>Prob(Omnibus):</th>  <td> 0.000</td>  <th>  Jarque-Bera (JB):  </th> <td>14931.298</td>\n",
       "</tr>\n",
       "<tr>\n",
       "  <th>Skew:</th>           <td> 2.284</td>  <th>  Prob(JB):          </th> <td>    0.00</td> \n",
       "</tr>\n",
       "<tr>\n",
       "  <th>Kurtosis:</th>       <td>12.929</td>  <th>  Cond. No.          </th> <td>1.16e+04</td> \n",
       "</tr>\n",
       "</table><br/><br/>Warnings:<br/>[1] Standard Errors assume that the covariance matrix of the errors is correctly specified.<br/>[2] The condition number is large, 1.16e+04. This might indicate that there are<br/>strong multicollinearity or other numerical problems."
      ],
      "text/plain": [
       "<class 'statsmodels.iolib.summary.Summary'>\n",
       "\"\"\"\n",
       "                            OLS Regression Results                            \n",
       "==============================================================================\n",
       "Dep. Variable:                  Price   R-squared:                       0.181\n",
       "Model:                            OLS   Adj. R-squared:                  0.179\n",
       "Method:                 Least Squares   F-statistic:                     82.49\n",
       "Date:                Sun, 07 Feb 2021   Prob (F-statistic):          1.08e-123\n",
       "Time:                        23:37:12   Log-Likelihood:                -44108.\n",
       "No. Observations:                3000   AIC:                         8.823e+04\n",
       "Df Residuals:                    2991   BIC:                         8.829e+04\n",
       "Df Model:                           8                                         \n",
       "Covariance Type:            nonrobust                                         \n",
       "==============================================================================\n",
       "                 coef    std err          t      P>|t|      [0.025      0.975]\n",
       "------------------------------------------------------------------------------\n",
       "Intercept   4.226e+05   7.97e+04      5.306      0.000    2.66e+05    5.79e+05\n",
       "Rooms       2.393e+05   1.38e+04     17.326      0.000    2.12e+05    2.66e+05\n",
       "Bathroom   -1.167e+04   1.47e+04     -0.796      0.426   -4.04e+04    1.71e+04\n",
       "Car        -1.054e+04   1.25e+04     -0.845      0.398    -3.5e+04    1.39e+04\n",
       "Landsize      -7.7142      7.419     -1.040      0.298     -22.260       6.832\n",
       "Distance    -576.9496   2541.609     -0.227      0.820   -5560.428    4406.529\n",
       "Bedroom    -7250.2919   9760.493     -0.743      0.458   -2.64e+04    1.19e+04\n",
       "Type_t     -1.184e+05   3.69e+04     -3.212      0.001   -1.91e+05   -4.61e+04\n",
       "Type_u     -1.924e+05   3.35e+04     -5.746      0.000   -2.58e+05   -1.27e+05\n",
       "==============================================================================\n",
       "Omnibus:                     1563.077   Durbin-Watson:                   1.377\n",
       "Prob(Omnibus):                  0.000   Jarque-Bera (JB):            14931.298\n",
       "Skew:                           2.284   Prob(JB):                         0.00\n",
       "Kurtosis:                      12.929   Cond. No.                     1.16e+04\n",
       "==============================================================================\n",
       "\n",
       "Warnings:\n",
       "[1] Standard Errors assume that the covariance matrix of the errors is correctly specified.\n",
       "[2] The condition number is large, 1.16e+04. This might indicate that there are\n",
       "strong multicollinearity or other numerical problems.\n",
       "\"\"\""
      ]
     },
     "execution_count": 69,
     "metadata": {},
     "output_type": "execute_result"
    }
   ],
   "source": [
    "import statsmodels.formula.api as sm\n",
    "\n",
    "sm_model_house2 = sm.ols('Price~Rooms+Bathroom+Car+Landsize+Distance+Bedroom+Type_t+Type_u', \n",
    "                  data = house2).fit()\n",
    "sm_model_house2.summary()"
   ]
  },
  {
   "cell_type": "markdown",
   "metadata": {},
   "source": [
    "### Here we got a little bit good model of accuracy for the prediction with some more features."
   ]
  },
  {
   "cell_type": "code",
   "execution_count": 70,
   "metadata": {},
   "outputs": [],
   "source": [
    "house3 = house[['Rooms', 'Type','Method', 'Price', 'Bathroom', 'Car',\n",
    "       'Landsize', 'Distance', 'Bedroom']]\n",
    "\n",
    "house3 = house3.iloc[:3000, :]"
   ]
  },
  {
   "cell_type": "code",
   "execution_count": 71,
   "metadata": {},
   "outputs": [
    {
     "data": {
      "text/plain": [
       "array(['S', 'SP', 'VB', 'PI', 'SA'], dtype=object)"
      ]
     },
     "execution_count": 71,
     "metadata": {},
     "output_type": "execute_result"
    }
   ],
   "source": [
    "house3.Method.unique()"
   ]
  },
  {
   "cell_type": "code",
   "execution_count": 72,
   "metadata": {
    "scrolled": true
   },
   "outputs": [
    {
     "data": {
      "text/html": [
       "<div>\n",
       "<style scoped>\n",
       "    .dataframe tbody tr th:only-of-type {\n",
       "        vertical-align: middle;\n",
       "    }\n",
       "\n",
       "    .dataframe tbody tr th {\n",
       "        vertical-align: top;\n",
       "    }\n",
       "\n",
       "    .dataframe thead th {\n",
       "        text-align: right;\n",
       "    }\n",
       "</style>\n",
       "<table border=\"1\" class=\"dataframe\">\n",
       "  <thead>\n",
       "    <tr style=\"text-align: right;\">\n",
       "      <th></th>\n",
       "      <th>Rooms</th>\n",
       "      <th>Price</th>\n",
       "      <th>Bathroom</th>\n",
       "      <th>Car</th>\n",
       "      <th>Landsize</th>\n",
       "      <th>Distance</th>\n",
       "      <th>Bedroom</th>\n",
       "      <th>Type_t</th>\n",
       "      <th>Type_u</th>\n",
       "      <th>Method_S</th>\n",
       "      <th>Method_SA</th>\n",
       "      <th>Method_SP</th>\n",
       "      <th>Method_VB</th>\n",
       "    </tr>\n",
       "  </thead>\n",
       "  <tbody>\n",
       "    <tr>\n",
       "      <th>0</th>\n",
       "      <td>3</td>\n",
       "      <td>1490000</td>\n",
       "      <td>1</td>\n",
       "      <td>1</td>\n",
       "      <td>126</td>\n",
       "      <td>25.2</td>\n",
       "      <td>2</td>\n",
       "      <td>0</td>\n",
       "      <td>0</td>\n",
       "      <td>1</td>\n",
       "      <td>0</td>\n",
       "      <td>0</td>\n",
       "      <td>0</td>\n",
       "    </tr>\n",
       "    <tr>\n",
       "      <th>1</th>\n",
       "      <td>3</td>\n",
       "      <td>1220000</td>\n",
       "      <td>1</td>\n",
       "      <td>1</td>\n",
       "      <td>202</td>\n",
       "      <td>21.8</td>\n",
       "      <td>2</td>\n",
       "      <td>0</td>\n",
       "      <td>0</td>\n",
       "      <td>1</td>\n",
       "      <td>0</td>\n",
       "      <td>0</td>\n",
       "      <td>0</td>\n",
       "    </tr>\n",
       "    <tr>\n",
       "      <th>2</th>\n",
       "      <td>3</td>\n",
       "      <td>1420000</td>\n",
       "      <td>1</td>\n",
       "      <td>0</td>\n",
       "      <td>156</td>\n",
       "      <td>21.7</td>\n",
       "      <td>2</td>\n",
       "      <td>0</td>\n",
       "      <td>0</td>\n",
       "      <td>1</td>\n",
       "      <td>0</td>\n",
       "      <td>0</td>\n",
       "      <td>0</td>\n",
       "    </tr>\n",
       "    <tr>\n",
       "      <th>3</th>\n",
       "      <td>3</td>\n",
       "      <td>1515000</td>\n",
       "      <td>2</td>\n",
       "      <td>1</td>\n",
       "      <td>0</td>\n",
       "      <td>18.8</td>\n",
       "      <td>3</td>\n",
       "      <td>0</td>\n",
       "      <td>0</td>\n",
       "      <td>1</td>\n",
       "      <td>0</td>\n",
       "      <td>0</td>\n",
       "      <td>0</td>\n",
       "    </tr>\n",
       "    <tr>\n",
       "      <th>4</th>\n",
       "      <td>2</td>\n",
       "      <td>670000</td>\n",
       "      <td>2</td>\n",
       "      <td>0</td>\n",
       "      <td>134</td>\n",
       "      <td>20.6</td>\n",
       "      <td>3</td>\n",
       "      <td>0</td>\n",
       "      <td>0</td>\n",
       "      <td>1</td>\n",
       "      <td>0</td>\n",
       "      <td>0</td>\n",
       "      <td>0</td>\n",
       "    </tr>\n",
       "  </tbody>\n",
       "</table>\n",
       "</div>"
      ],
      "text/plain": [
       "   Rooms    Price  Bathroom  Car  Landsize  Distance  Bedroom  Type_t  Type_u  \\\n",
       "0      3  1490000         1    1       126      25.2        2       0       0   \n",
       "1      3  1220000         1    1       202      21.8        2       0       0   \n",
       "2      3  1420000         1    0       156      21.7        2       0       0   \n",
       "3      3  1515000         2    1         0      18.8        3       0       0   \n",
       "4      2   670000         2    0       134      20.6        3       0       0   \n",
       "\n",
       "   Method_S  Method_SA  Method_SP  Method_VB  \n",
       "0         1          0          0          0  \n",
       "1         1          0          0          0  \n",
       "2         1          0          0          0  \n",
       "3         1          0          0          0  \n",
       "4         1          0          0          0  "
      ]
     },
     "execution_count": 72,
     "metadata": {},
     "output_type": "execute_result"
    }
   ],
   "source": [
    "house3 = pd.get_dummies(data=house3, columns=['Type','Method'], drop_first = True)\n",
    "house3.head()"
   ]
  },
  {
   "cell_type": "code",
   "execution_count": 73,
   "metadata": {},
   "outputs": [
    {
     "data": {
      "text/plain": [
       "Index(['Rooms', 'Price', 'Bathroom', 'Car', 'Landsize', 'Distance', 'Bedroom',\n",
       "       'Type_t', 'Type_u', 'Method_S', 'Method_SA', 'Method_SP', 'Method_VB'],\n",
       "      dtype='object')"
      ]
     },
     "execution_count": 73,
     "metadata": {},
     "output_type": "execute_result"
    }
   ],
   "source": [
    "house3.columns"
   ]
  },
  {
   "cell_type": "code",
   "execution_count": 74,
   "metadata": {
    "scrolled": false
   },
   "outputs": [
    {
     "data": {
      "text/html": [
       "<table class=\"simpletable\">\n",
       "<caption>OLS Regression Results</caption>\n",
       "<tr>\n",
       "  <th>Dep. Variable:</th>          <td>Price</td>      <th>  R-squared:         </th> <td>   0.196</td> \n",
       "</tr>\n",
       "<tr>\n",
       "  <th>Model:</th>                   <td>OLS</td>       <th>  Adj. R-squared:    </th> <td>   0.193</td> \n",
       "</tr>\n",
       "<tr>\n",
       "  <th>Method:</th>             <td>Least Squares</td>  <th>  F-statistic:       </th> <td>   60.80</td> \n",
       "</tr>\n",
       "<tr>\n",
       "  <th>Date:</th>             <td>Sun, 07 Feb 2021</td> <th>  Prob (F-statistic):</th> <td>3.25e-132</td>\n",
       "</tr>\n",
       "<tr>\n",
       "  <th>Time:</th>                 <td>23:37:12</td>     <th>  Log-Likelihood:    </th> <td> -44079.</td> \n",
       "</tr>\n",
       "<tr>\n",
       "  <th>No. Observations:</th>      <td>  3000</td>      <th>  AIC:               </th> <td>8.818e+04</td>\n",
       "</tr>\n",
       "<tr>\n",
       "  <th>Df Residuals:</th>          <td>  2987</td>      <th>  BIC:               </th> <td>8.826e+04</td>\n",
       "</tr>\n",
       "<tr>\n",
       "  <th>Df Model:</th>              <td>    12</td>      <th>                     </th>     <td> </td>    \n",
       "</tr>\n",
       "<tr>\n",
       "  <th>Covariance Type:</th>      <td>nonrobust</td>    <th>                     </th>     <td> </td>    \n",
       "</tr>\n",
       "</table>\n",
       "<table class=\"simpletable\">\n",
       "<tr>\n",
       "      <td></td>         <th>coef</th>     <th>std err</th>      <th>t</th>      <th>P>|t|</th>  <th>[0.025</th>    <th>0.975]</th>  \n",
       "</tr>\n",
       "<tr>\n",
       "  <th>Intercept</th> <td> 5.534e+05</td> <td> 8.72e+04</td> <td>    6.349</td> <td> 0.000</td> <td> 3.83e+05</td> <td> 7.24e+05</td>\n",
       "</tr>\n",
       "<tr>\n",
       "  <th>Rooms</th>     <td> 2.318e+05</td> <td> 1.37e+04</td> <td>   16.875</td> <td> 0.000</td> <td> 2.05e+05</td> <td> 2.59e+05</td>\n",
       "</tr>\n",
       "<tr>\n",
       "  <th>Bathroom</th>  <td>-1.413e+04</td> <td> 1.45e+04</td> <td>   -0.971</td> <td> 0.331</td> <td>-4.27e+04</td> <td> 1.44e+04</td>\n",
       "</tr>\n",
       "<tr>\n",
       "  <th>Car</th>       <td>-1.369e+04</td> <td> 1.24e+04</td> <td>   -1.107</td> <td> 0.269</td> <td>-3.79e+04</td> <td> 1.06e+04</td>\n",
       "</tr>\n",
       "<tr>\n",
       "  <th>Landsize</th>  <td>   -7.9655</td> <td>    7.354</td> <td>   -1.083</td> <td> 0.279</td> <td>  -22.384</td> <td>    6.453</td>\n",
       "</tr>\n",
       "<tr>\n",
       "  <th>Distance</th>  <td> -630.3508</td> <td> 2519.636</td> <td>   -0.250</td> <td> 0.802</td> <td>-5570.748</td> <td> 4310.046</td>\n",
       "</tr>\n",
       "<tr>\n",
       "  <th>Bedroom</th>   <td>-7935.7237</td> <td> 9679.915</td> <td>   -0.820</td> <td> 0.412</td> <td>-2.69e+04</td> <td>  1.1e+04</td>\n",
       "</tr>\n",
       "<tr>\n",
       "  <th>Type_t</th>    <td>-1.317e+05</td> <td> 3.67e+04</td> <td>   -3.588</td> <td> 0.000</td> <td>-2.04e+05</td> <td>-5.97e+04</td>\n",
       "</tr>\n",
       "<tr>\n",
       "  <th>Type_u</th>    <td> -2.09e+05</td> <td> 3.33e+04</td> <td>   -6.271</td> <td> 0.000</td> <td>-2.74e+05</td> <td>-1.44e+05</td>\n",
       "</tr>\n",
       "<tr>\n",
       "  <th>Method_S</th>  <td>-9.833e+04</td> <td>  3.5e+04</td> <td>   -2.806</td> <td> 0.005</td> <td>-1.67e+05</td> <td>-2.96e+04</td>\n",
       "</tr>\n",
       "<tr>\n",
       "  <th>Method_SA</th> <td>-9.104e+04</td> <td> 1.21e+05</td> <td>   -0.751</td> <td> 0.453</td> <td>-3.29e+05</td> <td> 1.47e+05</td>\n",
       "</tr>\n",
       "<tr>\n",
       "  <th>Method_SP</th> <td>-2.388e+05</td> <td> 4.33e+04</td> <td>   -5.515</td> <td> 0.000</td> <td>-3.24e+05</td> <td>-1.54e+05</td>\n",
       "</tr>\n",
       "<tr>\n",
       "  <th>Method_VB</th> <td> 8.353e+04</td> <td> 4.85e+04</td> <td>    1.723</td> <td> 0.085</td> <td>-1.15e+04</td> <td> 1.79e+05</td>\n",
       "</tr>\n",
       "</table>\n",
       "<table class=\"simpletable\">\n",
       "<tr>\n",
       "  <th>Omnibus:</th>       <td>1553.971</td> <th>  Durbin-Watson:     </th> <td>   1.400</td> \n",
       "</tr>\n",
       "<tr>\n",
       "  <th>Prob(Omnibus):</th>  <td> 0.000</td>  <th>  Jarque-Bera (JB):  </th> <td>14807.764</td>\n",
       "</tr>\n",
       "<tr>\n",
       "  <th>Skew:</th>           <td> 2.267</td>  <th>  Prob(JB):          </th> <td>    0.00</td> \n",
       "</tr>\n",
       "<tr>\n",
       "  <th>Kurtosis:</th>       <td>12.894</td>  <th>  Cond. No.          </th> <td>1.78e+04</td> \n",
       "</tr>\n",
       "</table><br/><br/>Warnings:<br/>[1] Standard Errors assume that the covariance matrix of the errors is correctly specified.<br/>[2] The condition number is large, 1.78e+04. This might indicate that there are<br/>strong multicollinearity or other numerical problems."
      ],
      "text/plain": [
       "<class 'statsmodels.iolib.summary.Summary'>\n",
       "\"\"\"\n",
       "                            OLS Regression Results                            \n",
       "==============================================================================\n",
       "Dep. Variable:                  Price   R-squared:                       0.196\n",
       "Model:                            OLS   Adj. R-squared:                  0.193\n",
       "Method:                 Least Squares   F-statistic:                     60.80\n",
       "Date:                Sun, 07 Feb 2021   Prob (F-statistic):          3.25e-132\n",
       "Time:                        23:37:12   Log-Likelihood:                -44079.\n",
       "No. Observations:                3000   AIC:                         8.818e+04\n",
       "Df Residuals:                    2987   BIC:                         8.826e+04\n",
       "Df Model:                          12                                         \n",
       "Covariance Type:            nonrobust                                         \n",
       "==============================================================================\n",
       "                 coef    std err          t      P>|t|      [0.025      0.975]\n",
       "------------------------------------------------------------------------------\n",
       "Intercept   5.534e+05   8.72e+04      6.349      0.000    3.83e+05    7.24e+05\n",
       "Rooms       2.318e+05   1.37e+04     16.875      0.000    2.05e+05    2.59e+05\n",
       "Bathroom   -1.413e+04   1.45e+04     -0.971      0.331   -4.27e+04    1.44e+04\n",
       "Car        -1.369e+04   1.24e+04     -1.107      0.269   -3.79e+04    1.06e+04\n",
       "Landsize      -7.9655      7.354     -1.083      0.279     -22.384       6.453\n",
       "Distance    -630.3508   2519.636     -0.250      0.802   -5570.748    4310.046\n",
       "Bedroom    -7935.7237   9679.915     -0.820      0.412   -2.69e+04     1.1e+04\n",
       "Type_t     -1.317e+05   3.67e+04     -3.588      0.000   -2.04e+05   -5.97e+04\n",
       "Type_u      -2.09e+05   3.33e+04     -6.271      0.000   -2.74e+05   -1.44e+05\n",
       "Method_S   -9.833e+04    3.5e+04     -2.806      0.005   -1.67e+05   -2.96e+04\n",
       "Method_SA  -9.104e+04   1.21e+05     -0.751      0.453   -3.29e+05    1.47e+05\n",
       "Method_SP  -2.388e+05   4.33e+04     -5.515      0.000   -3.24e+05   -1.54e+05\n",
       "Method_VB   8.353e+04   4.85e+04      1.723      0.085   -1.15e+04    1.79e+05\n",
       "==============================================================================\n",
       "Omnibus:                     1553.971   Durbin-Watson:                   1.400\n",
       "Prob(Omnibus):                  0.000   Jarque-Bera (JB):            14807.764\n",
       "Skew:                           2.267   Prob(JB):                         0.00\n",
       "Kurtosis:                      12.894   Cond. No.                     1.78e+04\n",
       "==============================================================================\n",
       "\n",
       "Warnings:\n",
       "[1] Standard Errors assume that the covariance matrix of the errors is correctly specified.\n",
       "[2] The condition number is large, 1.78e+04. This might indicate that there are\n",
       "strong multicollinearity or other numerical problems.\n",
       "\"\"\""
      ]
     },
     "execution_count": 74,
     "metadata": {},
     "output_type": "execute_result"
    }
   ],
   "source": [
    "import statsmodels.formula.api as sm\n",
    "\n",
    "sm_model_house3 = sm.ols('Price~Rooms+Bathroom+Car+Landsize+Distance+Bedroom+Type_t+Type_u+Method_S+Method_SA+Method_SP+Method_VB', \n",
    "                  data = house3).fit()\n",
    "sm_model_house3.summary()"
   ]
  },
  {
   "cell_type": "markdown",
   "metadata": {},
   "source": [
    "### Again we got at astonishing information that, we have increased our model accuracy with 4% level. Which shows that we could make it better for our prediction rather than using above data."
   ]
  },
  {
   "cell_type": "markdown",
   "metadata": {},
   "source": [
    "### NOTE:\n",
    "**As much we consider the significant features into the model, we get a good accuracy in the model.**"
   ]
  },
  {
   "cell_type": "code",
   "execution_count": 75,
   "metadata": {
    "scrolled": true
   },
   "outputs": [
    {
     "data": {
      "text/html": [
       "<table class=\"simpletable\">\n",
       "<caption>OLS Regression Results</caption>\n",
       "<tr>\n",
       "  <th>Dep. Variable:</th>          <td>Price</td>      <th>  R-squared:         </th> <td>   0.196</td> \n",
       "</tr>\n",
       "<tr>\n",
       "  <th>Model:</th>                   <td>OLS</td>       <th>  Adj. R-squared:    </th> <td>   0.193</td> \n",
       "</tr>\n",
       "<tr>\n",
       "  <th>Method:</th>             <td>Least Squares</td>  <th>  F-statistic:       </th> <td>   72.85</td> \n",
       "</tr>\n",
       "<tr>\n",
       "  <th>Date:</th>             <td>Sun, 07 Feb 2021</td> <th>  Prob (F-statistic):</th> <td>8.42e-134</td>\n",
       "</tr>\n",
       "<tr>\n",
       "  <th>Time:</th>                 <td>23:37:13</td>     <th>  Log-Likelihood:    </th> <td> -44080.</td> \n",
       "</tr>\n",
       "<tr>\n",
       "  <th>No. Observations:</th>      <td>  3000</td>      <th>  AIC:               </th> <td>8.818e+04</td>\n",
       "</tr>\n",
       "<tr>\n",
       "  <th>Df Residuals:</th>          <td>  2989</td>      <th>  BIC:               </th> <td>8.825e+04</td>\n",
       "</tr>\n",
       "<tr>\n",
       "  <th>Df Model:</th>              <td>    10</td>      <th>                     </th>     <td> </td>    \n",
       "</tr>\n",
       "<tr>\n",
       "  <th>Covariance Type:</th>      <td>nonrobust</td>    <th>                     </th>     <td> </td>    \n",
       "</tr>\n",
       "</table>\n",
       "<table class=\"simpletable\">\n",
       "<tr>\n",
       "      <td></td>         <th>coef</th>     <th>std err</th>      <th>t</th>      <th>P>|t|</th>  <th>[0.025</th>    <th>0.975]</th>  \n",
       "</tr>\n",
       "<tr>\n",
       "  <th>Intercept</th> <td> 5.274e+05</td> <td>  7.1e+04</td> <td>    7.424</td> <td> 0.000</td> <td> 3.88e+05</td> <td> 6.67e+05</td>\n",
       "</tr>\n",
       "<tr>\n",
       "  <th>Rooms</th>     <td> 2.319e+05</td> <td> 1.37e+04</td> <td>   16.881</td> <td> 0.000</td> <td> 2.05e+05</td> <td> 2.59e+05</td>\n",
       "</tr>\n",
       "<tr>\n",
       "  <th>Bathroom</th>  <td>-1.938e+04</td> <td> 1.38e+04</td> <td>   -1.409</td> <td> 0.159</td> <td>-4.63e+04</td> <td> 7592.632</td>\n",
       "</tr>\n",
       "<tr>\n",
       "  <th>Landsize</th>  <td>   -8.5706</td> <td>    7.330</td> <td>   -1.169</td> <td> 0.242</td> <td>  -22.944</td> <td>    5.803</td>\n",
       "</tr>\n",
       "<tr>\n",
       "  <th>Bedroom</th>   <td>-8115.1224</td> <td> 9677.482</td> <td>   -0.839</td> <td> 0.402</td> <td>-2.71e+04</td> <td> 1.09e+04</td>\n",
       "</tr>\n",
       "<tr>\n",
       "  <th>Type_t</th>    <td>-1.315e+05</td> <td> 3.67e+04</td> <td>   -3.584</td> <td> 0.000</td> <td>-2.03e+05</td> <td>-5.96e+04</td>\n",
       "</tr>\n",
       "<tr>\n",
       "  <th>Type_u</th>    <td>-2.095e+05</td> <td> 3.33e+04</td> <td>   -6.290</td> <td> 0.000</td> <td>-2.75e+05</td> <td>-1.44e+05</td>\n",
       "</tr>\n",
       "<tr>\n",
       "  <th>Method_S</th>  <td>-9.697e+04</td> <td>  3.5e+04</td> <td>   -2.769</td> <td> 0.006</td> <td>-1.66e+05</td> <td>-2.83e+04</td>\n",
       "</tr>\n",
       "<tr>\n",
       "  <th>Method_SA</th> <td>-9.262e+04</td> <td> 1.21e+05</td> <td>   -0.764</td> <td> 0.445</td> <td> -3.3e+05</td> <td> 1.45e+05</td>\n",
       "</tr>\n",
       "<tr>\n",
       "  <th>Method_SP</th> <td>-2.374e+05</td> <td> 4.33e+04</td> <td>   -5.486</td> <td> 0.000</td> <td>-3.22e+05</td> <td>-1.53e+05</td>\n",
       "</tr>\n",
       "<tr>\n",
       "  <th>Method_VB</th> <td> 8.367e+04</td> <td> 4.85e+04</td> <td>    1.726</td> <td> 0.084</td> <td>-1.14e+04</td> <td> 1.79e+05</td>\n",
       "</tr>\n",
       "</table>\n",
       "<table class=\"simpletable\">\n",
       "<tr>\n",
       "  <th>Omnibus:</th>       <td>1554.653</td> <th>  Durbin-Watson:     </th> <td>   1.399</td> \n",
       "</tr>\n",
       "<tr>\n",
       "  <th>Prob(Omnibus):</th>  <td> 0.000</td>  <th>  Jarque-Bera (JB):  </th> <td>14804.493</td>\n",
       "</tr>\n",
       "<tr>\n",
       "  <th>Skew:</th>           <td> 2.269</td>  <th>  Prob(JB):          </th> <td>    0.00</td> \n",
       "</tr>\n",
       "<tr>\n",
       "  <th>Kurtosis:</th>       <td>12.892</td>  <th>  Cond. No.          </th> <td>1.77e+04</td> \n",
       "</tr>\n",
       "</table><br/><br/>Warnings:<br/>[1] Standard Errors assume that the covariance matrix of the errors is correctly specified.<br/>[2] The condition number is large, 1.77e+04. This might indicate that there are<br/>strong multicollinearity or other numerical problems."
      ],
      "text/plain": [
       "<class 'statsmodels.iolib.summary.Summary'>\n",
       "\"\"\"\n",
       "                            OLS Regression Results                            \n",
       "==============================================================================\n",
       "Dep. Variable:                  Price   R-squared:                       0.196\n",
       "Model:                            OLS   Adj. R-squared:                  0.193\n",
       "Method:                 Least Squares   F-statistic:                     72.85\n",
       "Date:                Sun, 07 Feb 2021   Prob (F-statistic):          8.42e-134\n",
       "Time:                        23:37:13   Log-Likelihood:                -44080.\n",
       "No. Observations:                3000   AIC:                         8.818e+04\n",
       "Df Residuals:                    2989   BIC:                         8.825e+04\n",
       "Df Model:                          10                                         \n",
       "Covariance Type:            nonrobust                                         \n",
       "==============================================================================\n",
       "                 coef    std err          t      P>|t|      [0.025      0.975]\n",
       "------------------------------------------------------------------------------\n",
       "Intercept   5.274e+05    7.1e+04      7.424      0.000    3.88e+05    6.67e+05\n",
       "Rooms       2.319e+05   1.37e+04     16.881      0.000    2.05e+05    2.59e+05\n",
       "Bathroom   -1.938e+04   1.38e+04     -1.409      0.159   -4.63e+04    7592.632\n",
       "Landsize      -8.5706      7.330     -1.169      0.242     -22.944       5.803\n",
       "Bedroom    -8115.1224   9677.482     -0.839      0.402   -2.71e+04    1.09e+04\n",
       "Type_t     -1.315e+05   3.67e+04     -3.584      0.000   -2.03e+05   -5.96e+04\n",
       "Type_u     -2.095e+05   3.33e+04     -6.290      0.000   -2.75e+05   -1.44e+05\n",
       "Method_S   -9.697e+04    3.5e+04     -2.769      0.006   -1.66e+05   -2.83e+04\n",
       "Method_SA  -9.262e+04   1.21e+05     -0.764      0.445    -3.3e+05    1.45e+05\n",
       "Method_SP  -2.374e+05   4.33e+04     -5.486      0.000   -3.22e+05   -1.53e+05\n",
       "Method_VB   8.367e+04   4.85e+04      1.726      0.084   -1.14e+04    1.79e+05\n",
       "==============================================================================\n",
       "Omnibus:                     1554.653   Durbin-Watson:                   1.399\n",
       "Prob(Omnibus):                  0.000   Jarque-Bera (JB):            14804.493\n",
       "Skew:                           2.269   Prob(JB):                         0.00\n",
       "Kurtosis:                      12.892   Cond. No.                     1.77e+04\n",
       "==============================================================================\n",
       "\n",
       "Warnings:\n",
       "[1] Standard Errors assume that the covariance matrix of the errors is correctly specified.\n",
       "[2] The condition number is large, 1.77e+04. This might indicate that there are\n",
       "strong multicollinearity or other numerical problems.\n",
       "\"\"\""
      ]
     },
     "execution_count": 75,
     "metadata": {},
     "output_type": "execute_result"
    }
   ],
   "source": [
    "import statsmodels.formula.api as sm\n",
    "\n",
    "selected_model_house3 = sm.ols('Price~Rooms+Bathroom+Landsize+Bedroom+Type_t+Type_u+Method_S+Method_SA+Method_SP+Method_VB', \n",
    "                  data = house3).fit()\n",
    "selected_model_house3.summary()"
   ]
  },
  {
   "cell_type": "markdown",
   "metadata": {},
   "source": [
    "`As we had selected our features for the model simplicity. And we kept it into the model. Now we made our model, and we got a very good model (Not a good much, but better than that of all previous).`"
   ]
  },
  {
   "cell_type": "markdown",
   "metadata": {},
   "source": [
    "--------------------"
   ]
  },
  {
   "cell_type": "code",
   "execution_count": 76,
   "metadata": {},
   "outputs": [],
   "source": [
    "X2 = house3.drop('Price', axis=1) ; y2 = house3.Price\n",
    "\n",
    "from sklearn.linear_model import ElasticNet\n",
    "net_model_encoding = ElasticNet(alpha=0.1, l1_ratio=0.5).fit(X2,y2)\n",
    "house3['EN_Predicted'] = net_model_encoding.predict(X2)"
   ]
  },
  {
   "cell_type": "code",
   "execution_count": 77,
   "metadata": {},
   "outputs": [
    {
     "data": {
      "image/png": "[encoded data removed]",
      "text/plain": [
       "<Figure size 1080x360 with 2 Axes>"
      ]
     },
     "metadata": {
      "needs_background": "light"
     },
     "output_type": "display_data"
    }
   ],
   "source": [
    "fig, axes = plt.subplots(1,2, sharey=True, figsize=(15,5))\n",
    "house3.Price[0:41].plot(kind='line', color='red', ax=axes[0])\n",
    "house3.EN_Predicted[0:41].plot(kind='line', color='gray', ax=axes[1])\n",
    "plt.show()"
   ]
  },
  {
   "cell_type": "markdown",
   "metadata": {},
   "source": [
    "## OR"
   ]
  },
  {
   "cell_type": "code",
   "execution_count": 78,
   "metadata": {
    "scrolled": false
   },
   "outputs": [
    {
     "data": {
      "image/png": "[encoded data removed]",
      "text/plain": [
       "<Figure size 1080x720 with 1 Axes>"
      ]
     },
     "metadata": {
      "needs_background": "light"
     },
     "output_type": "display_data"
    }
   ],
   "source": [
    "house3.Price[0:41].plot(kind='bar', color='red', label = 'Actual Price')\n",
    "house3.EN_Predicted[0:41].plot(kind='bar', color='black', label = 'Predicted Price')\n",
    "plt.legend()\n",
    "plt.show()"
   ]
  },
  {
   "cell_type": "markdown",
   "metadata": {},
   "source": [
    "`Awesome`\n",
    "\n",
    "#### The error is reduced much for these features with Elastic Net model.\n",
    "\n",
    "Refer above both plots."
   ]
  },
  {
   "cell_type": "markdown",
   "metadata": {},
   "source": [
    "-----------"
   ]
  },
  {
   "cell_type": "code",
   "execution_count": 79,
   "metadata": {
    "scrolled": true
   },
   "outputs": [
    {
     "data": {
      "text/html": [
       "<div>\n",
       "<style scoped>\n",
       "    .dataframe tbody tr th:only-of-type {\n",
       "        vertical-align: middle;\n",
       "    }\n",
       "\n",
       "    .dataframe tbody tr th {\n",
       "        vertical-align: top;\n",
       "    }\n",
       "\n",
       "    .dataframe thead th {\n",
       "        text-align: right;\n",
       "    }\n",
       "</style>\n",
       "<table border=\"1\" class=\"dataframe\">\n",
       "  <thead>\n",
       "    <tr style=\"text-align: right;\">\n",
       "      <th></th>\n",
       "      <th>Rooms</th>\n",
       "      <th>Bathroom</th>\n",
       "      <th>Car</th>\n",
       "      <th>Landsize</th>\n",
       "      <th>Distance</th>\n",
       "      <th>Bedroom</th>\n",
       "      <th>Type_t</th>\n",
       "      <th>Type_u</th>\n",
       "      <th>Method_S</th>\n",
       "      <th>Method_SA</th>\n",
       "      <th>Method_SP</th>\n",
       "      <th>Method_VB</th>\n",
       "    </tr>\n",
       "  </thead>\n",
       "  <tbody>\n",
       "    <tr>\n",
       "      <th>3000</th>\n",
       "      <td>4</td>\n",
       "      <td>1</td>\n",
       "      <td>1</td>\n",
       "      <td>245</td>\n",
       "      <td>17.4</td>\n",
       "      <td>4</td>\n",
       "      <td>0</td>\n",
       "      <td>0</td>\n",
       "      <td>1</td>\n",
       "      <td>0</td>\n",
       "      <td>0</td>\n",
       "      <td>0</td>\n",
       "    </tr>\n",
       "    <tr>\n",
       "      <th>3001</th>\n",
       "      <td>4</td>\n",
       "      <td>1</td>\n",
       "      <td>2</td>\n",
       "      <td>590</td>\n",
       "      <td>21.4</td>\n",
       "      <td>1</td>\n",
       "      <td>0</td>\n",
       "      <td>0</td>\n",
       "      <td>1</td>\n",
       "      <td>0</td>\n",
       "      <td>0</td>\n",
       "      <td>0</td>\n",
       "    </tr>\n",
       "    <tr>\n",
       "      <th>3002</th>\n",
       "      <td>2</td>\n",
       "      <td>2</td>\n",
       "      <td>2</td>\n",
       "      <td>602</td>\n",
       "      <td>20.9</td>\n",
       "      <td>2</td>\n",
       "      <td>0</td>\n",
       "      <td>1</td>\n",
       "      <td>1</td>\n",
       "      <td>0</td>\n",
       "      <td>0</td>\n",
       "      <td>0</td>\n",
       "    </tr>\n",
       "    <tr>\n",
       "      <th>3003</th>\n",
       "      <td>3</td>\n",
       "      <td>1</td>\n",
       "      <td>1</td>\n",
       "      <td>172</td>\n",
       "      <td>18.6</td>\n",
       "      <td>2</td>\n",
       "      <td>1</td>\n",
       "      <td>0</td>\n",
       "      <td>1</td>\n",
       "      <td>0</td>\n",
       "      <td>0</td>\n",
       "      <td>0</td>\n",
       "    </tr>\n",
       "    <tr>\n",
       "      <th>3004</th>\n",
       "      <td>2</td>\n",
       "      <td>1</td>\n",
       "      <td>2</td>\n",
       "      <td>258</td>\n",
       "      <td>25.3</td>\n",
       "      <td>3</td>\n",
       "      <td>0</td>\n",
       "      <td>0</td>\n",
       "      <td>1</td>\n",
       "      <td>0</td>\n",
       "      <td>0</td>\n",
       "      <td>0</td>\n",
       "    </tr>\n",
       "  </tbody>\n",
       "</table>\n",
       "</div>"
      ],
      "text/plain": [
       "      Rooms  Bathroom  Car  Landsize  Distance  Bedroom  Type_t  Type_u  \\\n",
       "3000      4         1    1       245      17.4        4       0       0   \n",
       "3001      4         1    2       590      21.4        1       0       0   \n",
       "3002      2         2    2       602      20.9        2       0       1   \n",
       "3003      3         1    1       172      18.6        2       1       0   \n",
       "3004      2         1    2       258      25.3        3       0       0   \n",
       "\n",
       "      Method_S  Method_SA  Method_SP  Method_VB  \n",
       "3000         1          0          0          0  \n",
       "3001         1          0          0          0  \n",
       "3002         1          0          0          0  \n",
       "3003         1          0          0          0  \n",
       "3004         1          0          0          0  "
      ]
     },
     "execution_count": 79,
     "metadata": {},
     "output_type": "execute_result"
    }
   ],
   "source": [
    "house_test = house.iloc[3000:,:] # Previously created test set.\n",
    "house_test_test = house_test.drop(['Price','Regionname'], axis=1)\n",
    "house_test_test = pd.get_dummies(data = house_test_test, columns=['Type', 'Method'], drop_first = True)\n",
    "house_test_test.head()"
   ]
  },
  {
   "cell_type": "code",
   "execution_count": 80,
   "metadata": {},
   "outputs": [],
   "source": [
    "X2 = house3.drop(['Price','EN_Predicted'], axis=1) ; y2 = house3.Price\n",
    "\n",
    "from sklearn.linear_model import ElasticNet\n",
    "net_model_test = ElasticNet(alpha=0.1, l1_ratio=0.5).fit(X2,y2)\n",
    "house_test_test['EN_Predicted'] = net_model_test.predict(house_test_test)"
   ]
  },
  {
   "cell_type": "code",
   "execution_count": 81,
   "metadata": {
    "scrolled": true
   },
   "outputs": [
    {
     "data": {
      "image/png": "[encoded data removed]",
      "text/plain": [
       "<Figure size 1080x360 with 2 Axes>"
      ]
     },
     "metadata": {
      "needs_background": "light"
     },
     "output_type": "display_data"
    }
   ],
   "source": [
    "fig, axes = plt.subplots(1,2, sharey=True, figsize=(15,5))\n",
    "house_test.Price[0:41].plot(kind='line', color='red', ax=axes[0])\n",
    "house_test_test['EN_Predicted'][0:41].plot(kind='line', color='gray', ax=axes[1])\n",
    "plt.show()"
   ]
  },
  {
   "cell_type": "markdown",
   "metadata": {},
   "source": [
    "## OR"
   ]
  },
  {
   "cell_type": "code",
   "execution_count": 82,
   "metadata": {
    "scrolled": false
   },
   "outputs": [
    {
     "data": {
      "image/png": "[encoded data removed]",
      "text/plain": [
       "<Figure size 1080x720 with 1 Axes>"
      ]
     },
     "metadata": {
      "needs_background": "light"
     },
     "output_type": "display_data"
    }
   ],
   "source": [
    "house_test.Price[0:41].plot(kind='bar', color='red', label= 'Actual Price')\n",
    "house_test_test['EN_Predicted'][0:41].plot(kind='bar', color='black', label = 'Predicted Price')\n",
    "plt.legend()\n",
    "plt.show()"
   ]
  },
  {
   "cell_type": "markdown",
   "metadata": {},
   "source": [
    "**Quite closer values**"
   ]
  },
  {
   "cell_type": "markdown",
   "metadata": {},
   "source": [
    "-----------------"
   ]
  },
  {
   "cell_type": "code",
   "execution_count": 83,
   "metadata": {
    "scrolled": true
   },
   "outputs": [
    {
     "data": {
      "image/png": "[encoded data removed]",
      "text/plain": [
       "<Figure size 1080x360 with 3 Axes>"
      ]
     },
     "metadata": {
      "needs_background": "light"
     },
     "output_type": "display_data"
    }
   ],
   "source": [
    "fig, axes = plt.subplots(1,3, sharey=True, figsize=(15,5))\n",
    "abs(house_test_data.Predicted_Price - house_test.Price).plot(kind='bar', ax=axes[0], title='OLS-model')\n",
    "abs(house_test_data.EN_Predicted - house_test.Price).plot(kind='bar', color='black', ax=axes[1], title='Elastic-Net model')\n",
    "abs(house_test_test.EN_Predicted - house_test.Price).plot(kind='bar', color='red', ax=axes[2], title='Elastic-N with FE')\n",
    "plt.show()"
   ]
  },
  {
   "cell_type": "markdown",
   "metadata": {},
   "source": [
    "`Now here we are quite satisfied with all our algorithms, we predicted our house price values. If we compare above values with another features, we got high errors for both training and testing which was leading of underfitting the model. But now we see at least a good values in less error compared to before predictions.`\n",
    "\n",
    "`Still we have less accuracy because our model demands for 19% of accuracy.`"
   ]
  },
  {
   "cell_type": "markdown",
   "metadata": {},
   "source": [
    "-----------------"
   ]
  },
  {
   "cell_type": "markdown",
   "metadata": {},
   "source": [
    "Let's transform oour data, we will see whether we get accuracy or not."
   ]
  },
  {
   "cell_type": "code",
   "execution_count": 84,
   "metadata": {
    "scrolled": true
   },
   "outputs": [
    {
     "data": {
      "text/html": [
       "<div>\n",
       "<style scoped>\n",
       "    .dataframe tbody tr th:only-of-type {\n",
       "        vertical-align: middle;\n",
       "    }\n",
       "\n",
       "    .dataframe tbody tr th {\n",
       "        vertical-align: top;\n",
       "    }\n",
       "\n",
       "    .dataframe thead th {\n",
       "        text-align: right;\n",
       "    }\n",
       "</style>\n",
       "<table border=\"1\" class=\"dataframe\">\n",
       "  <thead>\n",
       "    <tr style=\"text-align: right;\">\n",
       "      <th></th>\n",
       "      <th>Rooms</th>\n",
       "      <th>Price</th>\n",
       "      <th>Bathroom</th>\n",
       "      <th>Car</th>\n",
       "      <th>Landsize</th>\n",
       "      <th>Distance</th>\n",
       "      <th>Bedroom</th>\n",
       "    </tr>\n",
       "  </thead>\n",
       "  <tbody>\n",
       "    <tr>\n",
       "      <th>0</th>\n",
       "      <td>3</td>\n",
       "      <td>1490000</td>\n",
       "      <td>1</td>\n",
       "      <td>1</td>\n",
       "      <td>126</td>\n",
       "      <td>25.2</td>\n",
       "      <td>2</td>\n",
       "    </tr>\n",
       "    <tr>\n",
       "      <th>1</th>\n",
       "      <td>3</td>\n",
       "      <td>1220000</td>\n",
       "      <td>1</td>\n",
       "      <td>1</td>\n",
       "      <td>202</td>\n",
       "      <td>21.8</td>\n",
       "      <td>2</td>\n",
       "    </tr>\n",
       "    <tr>\n",
       "      <th>2</th>\n",
       "      <td>3</td>\n",
       "      <td>1420000</td>\n",
       "      <td>1</td>\n",
       "      <td>0</td>\n",
       "      <td>156</td>\n",
       "      <td>21.7</td>\n",
       "      <td>2</td>\n",
       "    </tr>\n",
       "    <tr>\n",
       "      <th>3</th>\n",
       "      <td>3</td>\n",
       "      <td>1515000</td>\n",
       "      <td>2</td>\n",
       "      <td>1</td>\n",
       "      <td>0</td>\n",
       "      <td>18.8</td>\n",
       "      <td>3</td>\n",
       "    </tr>\n",
       "    <tr>\n",
       "      <th>4</th>\n",
       "      <td>2</td>\n",
       "      <td>670000</td>\n",
       "      <td>2</td>\n",
       "      <td>0</td>\n",
       "      <td>134</td>\n",
       "      <td>20.6</td>\n",
       "      <td>3</td>\n",
       "    </tr>\n",
       "  </tbody>\n",
       "</table>\n",
       "</div>"
      ],
      "text/plain": [
       "   Rooms    Price  Bathroom  Car  Landsize  Distance  Bedroom\n",
       "0      3  1490000         1    1       126      25.2        2\n",
       "1      3  1220000         1    1       202      21.8        2\n",
       "2      3  1420000         1    0       156      21.7        2\n",
       "3      3  1515000         2    1         0      18.8        3\n",
       "4      2   670000         2    0       134      20.6        3"
      ]
     },
     "execution_count": 84,
     "metadata": {},
     "output_type": "execute_result"
    }
   ],
   "source": [
    "house_train.head()"
   ]
  },
  {
   "cell_type": "code",
   "execution_count": 85,
   "metadata": {},
   "outputs": [
    {
     "data": {
      "image/png": "[encoded data removed]",
      "text/plain": [
       "<Figure size 1080x360 with 2 Axes>"
      ]
     },
     "metadata": {
      "needs_background": "light"
     },
     "output_type": "display_data"
    }
   ],
   "source": [
    "fig, axes = plt.subplots(1,2, sharey=True, figsize=(15,5))\n",
    "house_train.Rooms.plot(kind='kde', ax=axes[0], title='Rooms')\n",
    "house_train.Distance.plot(kind='kde', ax=axes[1], title='Distance')\n",
    "plt.show()"
   ]
  },
  {
   "cell_type": "code",
   "execution_count": 86,
   "metadata": {
    "scrolled": true
   },
   "outputs": [
    {
     "data": {
      "text/html": [
       "<div>\n",
       "<style scoped>\n",
       "    .dataframe tbody tr th:only-of-type {\n",
       "        vertical-align: middle;\n",
       "    }\n",
       "\n",
       "    .dataframe tbody tr th {\n",
       "        vertical-align: top;\n",
       "    }\n",
       "\n",
       "    .dataframe thead th {\n",
       "        text-align: right;\n",
       "    }\n",
       "</style>\n",
       "<table border=\"1\" class=\"dataframe\">\n",
       "  <thead>\n",
       "    <tr style=\"text-align: right;\">\n",
       "      <th></th>\n",
       "      <th>Rooms</th>\n",
       "      <th>Price</th>\n",
       "      <th>Bathroom</th>\n",
       "      <th>Distance</th>\n",
       "      <th>Bedroom</th>\n",
       "    </tr>\n",
       "  </thead>\n",
       "  <tbody>\n",
       "    <tr>\n",
       "      <th>0</th>\n",
       "      <td>3</td>\n",
       "      <td>1490000</td>\n",
       "      <td>1</td>\n",
       "      <td>25.2</td>\n",
       "      <td>2</td>\n",
       "    </tr>\n",
       "    <tr>\n",
       "      <th>1</th>\n",
       "      <td>3</td>\n",
       "      <td>1220000</td>\n",
       "      <td>1</td>\n",
       "      <td>21.8</td>\n",
       "      <td>2</td>\n",
       "    </tr>\n",
       "    <tr>\n",
       "      <th>2</th>\n",
       "      <td>3</td>\n",
       "      <td>1420000</td>\n",
       "      <td>1</td>\n",
       "      <td>21.7</td>\n",
       "      <td>2</td>\n",
       "    </tr>\n",
       "    <tr>\n",
       "      <th>3</th>\n",
       "      <td>3</td>\n",
       "      <td>1515000</td>\n",
       "      <td>2</td>\n",
       "      <td>18.8</td>\n",
       "      <td>3</td>\n",
       "    </tr>\n",
       "    <tr>\n",
       "      <th>4</th>\n",
       "      <td>2</td>\n",
       "      <td>670000</td>\n",
       "      <td>2</td>\n",
       "      <td>20.6</td>\n",
       "      <td>3</td>\n",
       "    </tr>\n",
       "  </tbody>\n",
       "</table>\n",
       "</div>"
      ],
      "text/plain": [
       "   Rooms    Price  Bathroom  Distance  Bedroom\n",
       "0      3  1490000         1      25.2        2\n",
       "1      3  1220000         1      21.8        2\n",
       "2      3  1420000         1      21.7        2\n",
       "3      3  1515000         2      18.8        3\n",
       "4      2   670000         2      20.6        3"
      ]
     },
     "execution_count": 86,
     "metadata": {},
     "output_type": "execute_result"
    }
   ],
   "source": [
    "house_train_train = house_train.drop(['Landsize','Car'], axis=1)\n",
    "house_train_train.head()"
   ]
  },
  {
   "cell_type": "code",
   "execution_count": 87,
   "metadata": {
    "scrolled": true
   },
   "outputs": [
    {
     "data": {
      "text/html": [
       "<div>\n",
       "<style scoped>\n",
       "    .dataframe tbody tr th:only-of-type {\n",
       "        vertical-align: middle;\n",
       "    }\n",
       "\n",
       "    .dataframe tbody tr th {\n",
       "        vertical-align: top;\n",
       "    }\n",
       "\n",
       "    .dataframe thead th {\n",
       "        text-align: right;\n",
       "    }\n",
       "</style>\n",
       "<table border=\"1\" class=\"dataframe\">\n",
       "  <thead>\n",
       "    <tr style=\"text-align: right;\">\n",
       "      <th></th>\n",
       "      <th>Rooms</th>\n",
       "      <th>Price</th>\n",
       "      <th>Bathroom</th>\n",
       "      <th>Distance</th>\n",
       "      <th>Bedroom</th>\n",
       "    </tr>\n",
       "  </thead>\n",
       "  <tbody>\n",
       "    <tr>\n",
       "      <th>count</th>\n",
       "      <td>3000.000000</td>\n",
       "      <td>3.000000e+03</td>\n",
       "      <td>3000.000000</td>\n",
       "      <td>3000.000000</td>\n",
       "      <td>3000.000000</td>\n",
       "    </tr>\n",
       "    <tr>\n",
       "      <th>mean</th>\n",
       "      <td>3.083667</td>\n",
       "      <td>1.040372e+06</td>\n",
       "      <td>1.606000</td>\n",
       "      <td>19.271167</td>\n",
       "      <td>3.014000</td>\n",
       "    </tr>\n",
       "    <tr>\n",
       "      <th>std</th>\n",
       "      <td>0.936817</td>\n",
       "      <td>6.492741e+05</td>\n",
       "      <td>0.777795</td>\n",
       "      <td>4.228746</td>\n",
       "      <td>1.101609</td>\n",
       "    </tr>\n",
       "    <tr>\n",
       "      <th>min</th>\n",
       "      <td>1.000000</td>\n",
       "      <td>1.700000e+05</td>\n",
       "      <td>0.000000</td>\n",
       "      <td>5.000000</td>\n",
       "      <td>0.000000</td>\n",
       "    </tr>\n",
       "    <tr>\n",
       "      <th>25%</th>\n",
       "      <td>3.000000</td>\n",
       "      <td>6.200000e+05</td>\n",
       "      <td>1.000000</td>\n",
       "      <td>16.500000</td>\n",
       "      <td>2.000000</td>\n",
       "    </tr>\n",
       "    <tr>\n",
       "      <th>50%</th>\n",
       "      <td>3.000000</td>\n",
       "      <td>8.550000e+05</td>\n",
       "      <td>1.000000</td>\n",
       "      <td>19.200000</td>\n",
       "      <td>3.000000</td>\n",
       "    </tr>\n",
       "    <tr>\n",
       "      <th>75%</th>\n",
       "      <td>4.000000</td>\n",
       "      <td>1.275000e+06</td>\n",
       "      <td>2.000000</td>\n",
       "      <td>22.100000</td>\n",
       "      <td>4.000000</td>\n",
       "    </tr>\n",
       "    <tr>\n",
       "      <th>max</th>\n",
       "      <td>7.000000</td>\n",
       "      <td>6.240000e+06</td>\n",
       "      <td>12.000000</td>\n",
       "      <td>33.100000</td>\n",
       "      <td>30.000000</td>\n",
       "    </tr>\n",
       "  </tbody>\n",
       "</table>\n",
       "</div>"
      ],
      "text/plain": [
       "             Rooms         Price     Bathroom     Distance      Bedroom\n",
       "count  3000.000000  3.000000e+03  3000.000000  3000.000000  3000.000000\n",
       "mean      3.083667  1.040372e+06     1.606000    19.271167     3.014000\n",
       "std       0.936817  6.492741e+05     0.777795     4.228746     1.101609\n",
       "min       1.000000  1.700000e+05     0.000000     5.000000     0.000000\n",
       "25%       3.000000  6.200000e+05     1.000000    16.500000     2.000000\n",
       "50%       3.000000  8.550000e+05     1.000000    19.200000     3.000000\n",
       "75%       4.000000  1.275000e+06     2.000000    22.100000     4.000000\n",
       "max       7.000000  6.240000e+06    12.000000    33.100000    30.000000"
      ]
     },
     "execution_count": 87,
     "metadata": {},
     "output_type": "execute_result"
    }
   ],
   "source": [
    "house_train_train.describe()"
   ]
  },
  {
   "cell_type": "code",
   "execution_count": 88,
   "metadata": {},
   "outputs": [
    {
     "data": {
      "text/html": [
       "<table class=\"simpletable\">\n",
       "<caption>OLS Regression Results</caption>\n",
       "<tr>\n",
       "  <th>Dep. Variable:</th>          <td>Price</td>      <th>  R-squared:         </th> <td>   0.170</td> \n",
       "</tr>\n",
       "<tr>\n",
       "  <th>Model:</th>                   <td>OLS</td>       <th>  Adj. R-squared:    </th> <td>   0.169</td> \n",
       "</tr>\n",
       "<tr>\n",
       "  <th>Method:</th>             <td>Least Squares</td>  <th>  F-statistic:       </th> <td>   153.5</td> \n",
       "</tr>\n",
       "<tr>\n",
       "  <th>Date:</th>             <td>Sun, 07 Feb 2021</td> <th>  Prob (F-statistic):</th> <td>1.27e-119</td>\n",
       "</tr>\n",
       "<tr>\n",
       "  <th>Time:</th>                 <td>23:38:27</td>     <th>  Log-Likelihood:    </th> <td> -44127.</td> \n",
       "</tr>\n",
       "<tr>\n",
       "  <th>No. Observations:</th>      <td>  3000</td>      <th>  AIC:               </th> <td>8.826e+04</td>\n",
       "</tr>\n",
       "<tr>\n",
       "  <th>Df Residuals:</th>          <td>  2995</td>      <th>  BIC:               </th> <td>8.829e+04</td>\n",
       "</tr>\n",
       "<tr>\n",
       "  <th>Df Model:</th>              <td>     4</td>      <th>                     </th>     <td> </td>    \n",
       "</tr>\n",
       "<tr>\n",
       "  <th>Covariance Type:</th>      <td>nonrobust</td>    <th>                     </th>     <td> </td>    \n",
       "</tr>\n",
       "</table>\n",
       "<table class=\"simpletable\">\n",
       "<tr>\n",
       "      <td></td>         <th>coef</th>     <th>std err</th>      <th>t</th>      <th>P>|t|</th>  <th>[0.025</th>    <th>0.975]</th>  \n",
       "</tr>\n",
       "<tr>\n",
       "  <th>Intercept</th> <td> 2.239e+05</td> <td> 7.29e+04</td> <td>    3.071</td> <td> 0.002</td> <td>  8.1e+04</td> <td> 3.67e+05</td>\n",
       "</tr>\n",
       "<tr>\n",
       "  <th>Bedroom</th>   <td>-7743.2800</td> <td> 9814.254</td> <td>   -0.789</td> <td> 0.430</td> <td> -2.7e+04</td> <td> 1.15e+04</td>\n",
       "</tr>\n",
       "<tr>\n",
       "  <th>Distance</th>  <td> -708.2111</td> <td> 2555.792</td> <td>   -0.277</td> <td> 0.782</td> <td>-5719.497</td> <td> 4303.075</td>\n",
       "</tr>\n",
       "<tr>\n",
       "  <th>Bathroom</th>  <td>-1.529e+04</td> <td> 1.39e+04</td> <td>   -1.100</td> <td> 0.272</td> <td>-4.26e+04</td> <td>  1.2e+04</td>\n",
       "</tr>\n",
       "<tr>\n",
       "  <th>Rooms</th>     <td> 2.847e+05</td> <td> 1.15e+04</td> <td>   24.655</td> <td> 0.000</td> <td> 2.62e+05</td> <td> 3.07e+05</td>\n",
       "</tr>\n",
       "</table>\n",
       "<table class=\"simpletable\">\n",
       "<tr>\n",
       "  <th>Omnibus:</th>       <td>1554.511</td> <th>  Durbin-Watson:     </th> <td>   1.425</td> \n",
       "</tr>\n",
       "<tr>\n",
       "  <th>Prob(Omnibus):</th>  <td> 0.000</td>  <th>  Jarque-Bera (JB):  </th> <td>14411.961</td>\n",
       "</tr>\n",
       "<tr>\n",
       "  <th>Skew:</th>           <td> 2.279</td>  <th>  Prob(JB):          </th> <td>    0.00</td> \n",
       "</tr>\n",
       "<tr>\n",
       "  <th>Kurtosis:</th>       <td>12.722</td>  <th>  Cond. No.          </th> <td>    138.</td> \n",
       "</tr>\n",
       "</table><br/><br/>Warnings:<br/>[1] Standard Errors assume that the covariance matrix of the errors is correctly specified."
      ],
      "text/plain": [
       "<class 'statsmodels.iolib.summary.Summary'>\n",
       "\"\"\"\n",
       "                            OLS Regression Results                            \n",
       "==============================================================================\n",
       "Dep. Variable:                  Price   R-squared:                       0.170\n",
       "Model:                            OLS   Adj. R-squared:                  0.169\n",
       "Method:                 Least Squares   F-statistic:                     153.5\n",
       "Date:                Sun, 07 Feb 2021   Prob (F-statistic):          1.27e-119\n",
       "Time:                        23:38:27   Log-Likelihood:                -44127.\n",
       "No. Observations:                3000   AIC:                         8.826e+04\n",
       "Df Residuals:                    2995   BIC:                         8.829e+04\n",
       "Df Model:                           4                                         \n",
       "Covariance Type:            nonrobust                                         \n",
       "==============================================================================\n",
       "                 coef    std err          t      P>|t|      [0.025      0.975]\n",
       "------------------------------------------------------------------------------\n",
       "Intercept   2.239e+05   7.29e+04      3.071      0.002     8.1e+04    3.67e+05\n",
       "Bedroom    -7743.2800   9814.254     -0.789      0.430    -2.7e+04    1.15e+04\n",
       "Distance    -708.2111   2555.792     -0.277      0.782   -5719.497    4303.075\n",
       "Bathroom   -1.529e+04   1.39e+04     -1.100      0.272   -4.26e+04     1.2e+04\n",
       "Rooms       2.847e+05   1.15e+04     24.655      0.000    2.62e+05    3.07e+05\n",
       "==============================================================================\n",
       "Omnibus:                     1554.511   Durbin-Watson:                   1.425\n",
       "Prob(Omnibus):                  0.000   Jarque-Bera (JB):            14411.961\n",
       "Skew:                           2.279   Prob(JB):                         0.00\n",
       "Kurtosis:                      12.722   Cond. No.                         138.\n",
       "==============================================================================\n",
       "\n",
       "Warnings:\n",
       "[1] Standard Errors assume that the covariance matrix of the errors is correctly specified.\n",
       "\"\"\""
      ]
     },
     "execution_count": 88,
     "metadata": {},
     "output_type": "execute_result"
    }
   ],
   "source": [
    "import statsmodels.formula.api as sm\n",
    "\n",
    "ols_model1 = sm.ols('Price~Bedroom+Distance+Bathroom+Rooms', \n",
    "                  data = house_train_train).fit()\n",
    "ols_model1.summary()"
   ]
  },
  {
   "cell_type": "code",
   "execution_count": 89,
   "metadata": {},
   "outputs": [],
   "source": [
    "house_train_train['Distance'] = house_train_train.Distance/4"
   ]
  },
  {
   "cell_type": "code",
   "execution_count": 90,
   "metadata": {},
   "outputs": [
    {
     "data": {
      "text/html": [
       "<table class=\"simpletable\">\n",
       "<caption>OLS Regression Results</caption>\n",
       "<tr>\n",
       "  <th>Dep. Variable:</th>          <td>Price</td>      <th>  R-squared:         </th> <td>   0.170</td> \n",
       "</tr>\n",
       "<tr>\n",
       "  <th>Model:</th>                   <td>OLS</td>       <th>  Adj. R-squared:    </th> <td>   0.169</td> \n",
       "</tr>\n",
       "<tr>\n",
       "  <th>Method:</th>             <td>Least Squares</td>  <th>  F-statistic:       </th> <td>   153.5</td> \n",
       "</tr>\n",
       "<tr>\n",
       "  <th>Date:</th>             <td>Sun, 07 Feb 2021</td> <th>  Prob (F-statistic):</th> <td>1.27e-119</td>\n",
       "</tr>\n",
       "<tr>\n",
       "  <th>Time:</th>                 <td>23:38:28</td>     <th>  Log-Likelihood:    </th> <td> -44127.</td> \n",
       "</tr>\n",
       "<tr>\n",
       "  <th>No. Observations:</th>      <td>  3000</td>      <th>  AIC:               </th> <td>8.826e+04</td>\n",
       "</tr>\n",
       "<tr>\n",
       "  <th>Df Residuals:</th>          <td>  2995</td>      <th>  BIC:               </th> <td>8.829e+04</td>\n",
       "</tr>\n",
       "<tr>\n",
       "  <th>Df Model:</th>              <td>     4</td>      <th>                     </th>     <td> </td>    \n",
       "</tr>\n",
       "<tr>\n",
       "  <th>Covariance Type:</th>      <td>nonrobust</td>    <th>                     </th>     <td> </td>    \n",
       "</tr>\n",
       "</table>\n",
       "<table class=\"simpletable\">\n",
       "<tr>\n",
       "      <td></td>         <th>coef</th>     <th>std err</th>      <th>t</th>      <th>P>|t|</th>  <th>[0.025</th>    <th>0.975]</th>  \n",
       "</tr>\n",
       "<tr>\n",
       "  <th>Intercept</th> <td> 2.239e+05</td> <td> 7.29e+04</td> <td>    3.071</td> <td> 0.002</td> <td>  8.1e+04</td> <td> 3.67e+05</td>\n",
       "</tr>\n",
       "<tr>\n",
       "  <th>Bedroom</th>   <td>-7743.2800</td> <td> 9814.254</td> <td>   -0.789</td> <td> 0.430</td> <td> -2.7e+04</td> <td> 1.15e+04</td>\n",
       "</tr>\n",
       "<tr>\n",
       "  <th>Distance</th>  <td>-2832.8442</td> <td> 1.02e+04</td> <td>   -0.277</td> <td> 0.782</td> <td>-2.29e+04</td> <td> 1.72e+04</td>\n",
       "</tr>\n",
       "<tr>\n",
       "  <th>Bathroom</th>  <td>-1.529e+04</td> <td> 1.39e+04</td> <td>   -1.100</td> <td> 0.272</td> <td>-4.26e+04</td> <td>  1.2e+04</td>\n",
       "</tr>\n",
       "<tr>\n",
       "  <th>Rooms</th>     <td> 2.847e+05</td> <td> 1.15e+04</td> <td>   24.655</td> <td> 0.000</td> <td> 2.62e+05</td> <td> 3.07e+05</td>\n",
       "</tr>\n",
       "</table>\n",
       "<table class=\"simpletable\">\n",
       "<tr>\n",
       "  <th>Omnibus:</th>       <td>1554.511</td> <th>  Durbin-Watson:     </th> <td>   1.425</td> \n",
       "</tr>\n",
       "<tr>\n",
       "  <th>Prob(Omnibus):</th>  <td> 0.000</td>  <th>  Jarque-Bera (JB):  </th> <td>14411.961</td>\n",
       "</tr>\n",
       "<tr>\n",
       "  <th>Skew:</th>           <td> 2.279</td>  <th>  Prob(JB):          </th> <td>    0.00</td> \n",
       "</tr>\n",
       "<tr>\n",
       "  <th>Kurtosis:</th>       <td>12.722</td>  <th>  Cond. No.          </th> <td>    46.5</td> \n",
       "</tr>\n",
       "</table><br/><br/>Warnings:<br/>[1] Standard Errors assume that the covariance matrix of the errors is correctly specified."
      ],
      "text/plain": [
       "<class 'statsmodels.iolib.summary.Summary'>\n",
       "\"\"\"\n",
       "                            OLS Regression Results                            \n",
       "==============================================================================\n",
       "Dep. Variable:                  Price   R-squared:                       0.170\n",
       "Model:                            OLS   Adj. R-squared:                  0.169\n",
       "Method:                 Least Squares   F-statistic:                     153.5\n",
       "Date:                Sun, 07 Feb 2021   Prob (F-statistic):          1.27e-119\n",
       "Time:                        23:38:28   Log-Likelihood:                -44127.\n",
       "No. Observations:                3000   AIC:                         8.826e+04\n",
       "Df Residuals:                    2995   BIC:                         8.829e+04\n",
       "Df Model:                           4                                         \n",
       "Covariance Type:            nonrobust                                         \n",
       "==============================================================================\n",
       "                 coef    std err          t      P>|t|      [0.025      0.975]\n",
       "------------------------------------------------------------------------------\n",
       "Intercept   2.239e+05   7.29e+04      3.071      0.002     8.1e+04    3.67e+05\n",
       "Bedroom    -7743.2800   9814.254     -0.789      0.430    -2.7e+04    1.15e+04\n",
       "Distance   -2832.8442   1.02e+04     -0.277      0.782   -2.29e+04    1.72e+04\n",
       "Bathroom   -1.529e+04   1.39e+04     -1.100      0.272   -4.26e+04     1.2e+04\n",
       "Rooms       2.847e+05   1.15e+04     24.655      0.000    2.62e+05    3.07e+05\n",
       "==============================================================================\n",
       "Omnibus:                     1554.511   Durbin-Watson:                   1.425\n",
       "Prob(Omnibus):                  0.000   Jarque-Bera (JB):            14411.961\n",
       "Skew:                           2.279   Prob(JB):                         0.00\n",
       "Kurtosis:                      12.722   Cond. No.                         46.5\n",
       "==============================================================================\n",
       "\n",
       "Warnings:\n",
       "[1] Standard Errors assume that the covariance matrix of the errors is correctly specified.\n",
       "\"\"\""
      ]
     },
     "execution_count": 90,
     "metadata": {},
     "output_type": "execute_result"
    }
   ],
   "source": [
    "import statsmodels.formula.api as sm\n",
    "\n",
    "ols_model2 = sm.ols('Price~Bedroom+Distance+Bathroom+Rooms', \n",
    "                  data = house_train_train).fit()\n",
    "ols_model2.summary()"
   ]
  },
  {
   "cell_type": "code",
   "execution_count": 91,
   "metadata": {},
   "outputs": [
    {
     "data": {
      "text/html": [
       "<table class=\"simpletable\">\n",
       "<caption>OLS Regression Results</caption>\n",
       "<tr>\n",
       "  <th>Dep. Variable:</th>          <td>Price</td>      <th>  R-squared:         </th> <td>   0.170</td> \n",
       "</tr>\n",
       "<tr>\n",
       "  <th>Model:</th>                   <td>OLS</td>       <th>  Adj. R-squared:    </th> <td>   0.169</td> \n",
       "</tr>\n",
       "<tr>\n",
       "  <th>Method:</th>             <td>Least Squares</td>  <th>  F-statistic:       </th> <td>   612.4</td> \n",
       "</tr>\n",
       "<tr>\n",
       "  <th>Date:</th>             <td>Sun, 07 Feb 2021</td> <th>  Prob (F-statistic):</th> <td>3.44e-123</td>\n",
       "</tr>\n",
       "<tr>\n",
       "  <th>Time:</th>                 <td>23:38:28</td>     <th>  Log-Likelihood:    </th> <td> -44128.</td> \n",
       "</tr>\n",
       "<tr>\n",
       "  <th>No. Observations:</th>      <td>  3000</td>      <th>  AIC:               </th> <td>8.826e+04</td>\n",
       "</tr>\n",
       "<tr>\n",
       "  <th>Df Residuals:</th>          <td>  2998</td>      <th>  BIC:               </th> <td>8.827e+04</td>\n",
       "</tr>\n",
       "<tr>\n",
       "  <th>Df Model:</th>              <td>     1</td>      <th>                     </th>     <td> </td>    \n",
       "</tr>\n",
       "<tr>\n",
       "  <th>Covariance Type:</th>      <td>nonrobust</td>    <th>                     </th>     <td> </td>    \n",
       "</tr>\n",
       "</table>\n",
       "<table class=\"simpletable\">\n",
       "<tr>\n",
       "      <td></td>         <th>coef</th>     <th>std err</th>      <th>t</th>      <th>P>|t|</th>  <th>[0.025</th>    <th>0.975]</th>  \n",
       "</tr>\n",
       "<tr>\n",
       "  <th>Intercept</th> <td> 1.602e+05</td> <td> 3.72e+04</td> <td>    4.308</td> <td> 0.000</td> <td> 8.73e+04</td> <td> 2.33e+05</td>\n",
       "</tr>\n",
       "<tr>\n",
       "  <th>Rooms</th>     <td> 2.854e+05</td> <td> 1.15e+04</td> <td>   24.747</td> <td> 0.000</td> <td> 2.63e+05</td> <td> 3.08e+05</td>\n",
       "</tr>\n",
       "</table>\n",
       "<table class=\"simpletable\">\n",
       "<tr>\n",
       "  <th>Omnibus:</th>       <td>1553.720</td> <th>  Durbin-Watson:     </th> <td>   1.423</td> \n",
       "</tr>\n",
       "<tr>\n",
       "  <th>Prob(Omnibus):</th>  <td> 0.000</td>  <th>  Jarque-Bera (JB):  </th> <td>14367.388</td>\n",
       "</tr>\n",
       "<tr>\n",
       "  <th>Skew:</th>           <td> 2.279</td>  <th>  Prob(JB):          </th> <td>    0.00</td> \n",
       "</tr>\n",
       "<tr>\n",
       "  <th>Kurtosis:</th>       <td>12.704</td>  <th>  Cond. No.          </th> <td>    12.1</td> \n",
       "</tr>\n",
       "</table><br/><br/>Warnings:<br/>[1] Standard Errors assume that the covariance matrix of the errors is correctly specified."
      ],
      "text/plain": [
       "<class 'statsmodels.iolib.summary.Summary'>\n",
       "\"\"\"\n",
       "                            OLS Regression Results                            \n",
       "==============================================================================\n",
       "Dep. Variable:                  Price   R-squared:                       0.170\n",
       "Model:                            OLS   Adj. R-squared:                  0.169\n",
       "Method:                 Least Squares   F-statistic:                     612.4\n",
       "Date:                Sun, 07 Feb 2021   Prob (F-statistic):          3.44e-123\n",
       "Time:                        23:38:28   Log-Likelihood:                -44128.\n",
       "No. Observations:                3000   AIC:                         8.826e+04\n",
       "Df Residuals:                    2998   BIC:                         8.827e+04\n",
       "Df Model:                           1                                         \n",
       "Covariance Type:            nonrobust                                         \n",
       "==============================================================================\n",
       "                 coef    std err          t      P>|t|      [0.025      0.975]\n",
       "------------------------------------------------------------------------------\n",
       "Intercept   1.602e+05   3.72e+04      4.308      0.000    8.73e+04    2.33e+05\n",
       "Rooms       2.854e+05   1.15e+04     24.747      0.000    2.63e+05    3.08e+05\n",
       "==============================================================================\n",
       "Omnibus:                     1553.720   Durbin-Watson:                   1.423\n",
       "Prob(Omnibus):                  0.000   Jarque-Bera (JB):            14367.388\n",
       "Skew:                           2.279   Prob(JB):                         0.00\n",
       "Kurtosis:                      12.704   Cond. No.                         12.1\n",
       "==============================================================================\n",
       "\n",
       "Warnings:\n",
       "[1] Standard Errors assume that the covariance matrix of the errors is correctly specified.\n",
       "\"\"\""
      ]
     },
     "execution_count": 91,
     "metadata": {},
     "output_type": "execute_result"
    }
   ],
   "source": [
    "import statsmodels.formula.api as sm\n",
    "\n",
    "ols_model2 = sm.ols('Price~Rooms', \n",
    "                  data = house_train_train).fit()\n",
    "ols_model2.summary()"
   ]
  },
  {
   "cell_type": "markdown",
   "metadata": {},
   "source": [
    "**All above models are showing that, if we thou we remove unnecessery features or keep it so, it does not give a good accuracy. It remains same for all time. But if we do some feature enigineerign, we get a good accuracy of approximately 20%** \n",
    "\n",
    "Refer sm_model_house3..."
   ]
  },
  {
   "cell_type": "markdown",
   "metadata": {},
   "source": [
    "`WE SHALL HAVE TO APPROACH SOME OTHER TECHNIQUES...`"
   ]
  },
  {
   "cell_type": "markdown",
   "metadata": {},
   "source": [
    "# END"
   ]
  }
 ],
 "metadata": {
  "kernelspec": {
   "display_name": "Python 3",
   "language": "python",
   "name": "python3"
  },
  "language_info": {
   "codemirror_mode": {
    "name": "ipython",
    "version": 3
   },
   "file_extension": ".py",
   "mimetype": "text/x-python",
   "name": "python",
   "nbconvert_exporter": "python",
   "pygments_lexer": "ipython3",
   "version": "3.7.4"
  }
 },
 "nbformat": 4,
 "nbformat_minor": 2
}
